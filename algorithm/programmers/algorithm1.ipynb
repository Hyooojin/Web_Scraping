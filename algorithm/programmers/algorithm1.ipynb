{
 "cells": [
  {
   "cell_type": "markdown",
   "metadata": {},
   "source": [
    "## x만큼 간격이 있는 n개의 숫자"
   ]
  },
  {
   "cell_type": "code",
   "execution_count": 12,
   "metadata": {},
   "outputs": [],
   "source": [
    "def number_generator(x, n):\n",
    "#     count = n-1\n",
    "    count = 1\n",
    "    b = []\n",
    "    while count <= n:\n",
    "        a = x * count\n",
    "        print(a)\n",
    "        count += 1 \n",
    "        b.append(a)\n",
    "    return b"
   ]
  },
  {
   "cell_type": "code",
   "execution_count": 13,
   "metadata": {
    "scrolled": true
   },
   "outputs": [
    {
     "name": "stdout",
     "output_type": "stream",
     "text": [
      "3\n",
      "6\n",
      "9\n",
      "12\n",
      "15\n"
     ]
    },
    {
     "data": {
      "text/plain": [
       "[3, 6, 9, 12, 15]"
      ]
     },
     "execution_count": 13,
     "metadata": {},
     "output_type": "execute_result"
    }
   ],
   "source": [
    "number_generator(3, 5)"
   ]
  },
  {
   "cell_type": "code",
   "execution_count": 23,
   "metadata": {
    "collapsed": true
   },
   "outputs": [],
   "source": [
    "def number_generator_for(x, n):\n",
    "    b = []\n",
    "    for x in range(x, x*n+ 1, x):\n",
    "        b.append(x)\n",
    "    return b"
   ]
  },
  {
   "cell_type": "code",
   "execution_count": 24,
   "metadata": {},
   "outputs": [
    {
     "name": "stdout",
     "output_type": "stream",
     "text": [
      "2\n",
      "4\n",
      "6\n"
     ]
    },
    {
     "data": {
      "text/plain": [
       "[2, 4, 6]"
      ]
     },
     "execution_count": 24,
     "metadata": {},
     "output_type": "execute_result"
    }
   ],
   "source": [
    "number_generator_for(2, 3)"
   ]
  },
  {
   "cell_type": "markdown",
   "metadata": {},
   "source": [
    "## 행렬의 덧셈"
   ]
  },
  {
   "cell_type": "markdown",
   "metadata": {},
   "source": [
    "## 같은 숫자는 싫어"
   ]
  },
  {
   "cell_type": "code",
   "execution_count": 25,
   "metadata": {
    "collapsed": true
   },
   "outputs": [],
   "source": [
    "def no_countinuous(s):\n",
    "    sep = set(s)\n",
    "    return sep"
   ]
  },
  {
   "cell_type": "code",
   "execution_count": 26,
   "metadata": {},
   "outputs": [
    {
     "data": {
      "text/plain": [
       "{'0', '1', '3'}"
      ]
     },
     "execution_count": 26,
     "metadata": {},
     "output_type": "execute_result"
    }
   ],
   "source": [
    "no_countinuous(\"133303\")"
   ]
  },
  {
   "cell_type": "code",
   "execution_count": 36,
   "metadata": {
    "collapsed": true
   },
   "outputs": [],
   "source": [
    "def no_countinuous_answer(s):\n",
    "    r = []\n",
    "    for i in range(len(s)):\n",
    "        if i == 0:\n",
    "            r.append(s[i])\n",
    "        elif s[i] != s[i-1]:\n",
    "            r.append(s[i])\n",
    "        return r\n",
    "    "
   ]
  },
  {
   "cell_type": "code",
   "execution_count": 37,
   "metadata": {
    "scrolled": true
   },
   "outputs": [
    {
     "data": {
      "text/plain": [
       "['1']"
      ]
     },
     "execution_count": 37,
     "metadata": {},
     "output_type": "execute_result"
    }
   ],
   "source": [
    "no_countinuous_answer(\"133303\")"
   ]
  },
  {
   "cell_type": "code",
   "execution_count": 87,
   "metadata": {},
   "outputs": [],
   "source": [
    "def no_countinous_2(s):\n",
    "    result = []\n",
    "    compare = \"\"\n",
    "    for now in s:\n",
    "        print(\"비교 값: \" + compare)\n",
    "        print(\"지금 값: \" + now)\n",
    "        if compare != now:\n",
    "            compare = now\n",
    "            result.append(now)\n",
    "    return (result)\n",
    "# 이전값이 계속 유지가 되어야 함\n",
    "# 비교값과 비교되는 값을 확실히 !\n",
    "# 필요없는 경우는 뛰어넘을 수도 \n",
    "# compare에는 반복된 숫자의 경우, 첫번째 반복 숫자만 들어간다.\n"
   ]
  },
  {
   "cell_type": "code",
   "execution_count": 88,
   "metadata": {},
   "outputs": [
    {
     "name": "stdout",
     "output_type": "stream",
     "text": [
      "비교 값: \n",
      "지금 값: 4\n",
      "비교 값: 4\n",
      "지금 값: 7\n",
      "비교 값: 7\n",
      "지금 값: 3\n",
      "비교 값: 3\n",
      "지금 값: 3\n",
      "비교 값: 3\n",
      "지금 값: 0\n"
     ]
    },
    {
     "data": {
      "text/plain": [
       "['4', '7', '3', '0']"
      ]
     },
     "execution_count": 88,
     "metadata": {},
     "output_type": "execute_result"
    }
   ],
   "source": [
    "no_countinous_2(\"47330\")"
   ]
  },
  {
   "cell_type": "markdown",
   "metadata": {},
   "source": [
    "## 서울에서 김서방 찾기"
   ]
  },
  {
   "cell_type": "markdown",
   "metadata": {},
   "source": [
    "## 홀수와 짝수"
   ]
  },
  {
   "cell_type": "code",
   "execution_count": null,
   "metadata": {
    "collapsed": true
   },
   "outputs": [],
   "source": []
  },
  {
   "cell_type": "code",
   "execution_count": null,
   "metadata": {
    "collapsed": true
   },
   "outputs": [],
   "source": []
  }
 ],
 "metadata": {
  "kernelspec": {
   "display_name": "Python 3",
   "language": "python",
   "name": "python3"
  },
  "language_info": {
   "codemirror_mode": {
    "name": "ipython",
    "version": 3
   },
   "file_extension": ".py",
   "mimetype": "text/x-python",
   "name": "python",
   "nbconvert_exporter": "python",
   "pygments_lexer": "ipython3",
   "version": "3.6.1"
  }
 },
 "nbformat": 4,
 "nbformat_minor": 2
}
