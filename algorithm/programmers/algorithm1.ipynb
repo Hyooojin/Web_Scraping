{
 "cells": [
  {
   "cell_type": "markdown",
   "metadata": {},
   "source": [
    "# (문제1) x만큼 간격이 있는 n개의 숫자"
   ]
  },
  {
   "cell_type": "code",
   "execution_count": 1,
   "metadata": {
    "collapsed": true
   },
   "outputs": [],
   "source": [
    "def number_generator(x, n):\n",
    "#     count = n-1\n",
    "    count = 1\n",
    "    b = []\n",
    "    while count <= n:\n",
    "        a = x * count\n",
    "        print(a)\n",
    "        count += 1 \n",
    "        b.append(a)\n",
    "    return b"
   ]
  },
  {
   "cell_type": "code",
   "execution_count": 2,
   "metadata": {
    "scrolled": true
   },
   "outputs": [
    {
     "name": "stdout",
     "output_type": "stream",
     "text": [
      "3\n",
      "6\n",
      "9\n",
      "12\n",
      "15\n"
     ]
    },
    {
     "data": {
      "text/plain": [
       "[3, 6, 9, 12, 15]"
      ]
     },
     "execution_count": 2,
     "metadata": {},
     "output_type": "execute_result"
    }
   ],
   "source": [
    "number_generator(3, 5)"
   ]
  },
  {
   "cell_type": "code",
   "execution_count": 3,
   "metadata": {
    "collapsed": true
   },
   "outputs": [],
   "source": [
    "def number_generator_for(x, n):\n",
    "    b = []\n",
    "    for x in range(x, x*n+ 1, x):\n",
    "        b.append(x)\n",
    "    return b"
   ]
  },
  {
   "cell_type": "code",
   "execution_count": 4,
   "metadata": {},
   "outputs": [
    {
     "data": {
      "text/plain": [
       "[2, 4, 6]"
      ]
     },
     "execution_count": 4,
     "metadata": {},
     "output_type": "execute_result"
    }
   ],
   "source": [
    "number_generator_for(2, 3)"
   ]
  },
  {
   "cell_type": "markdown",
   "metadata": {},
   "source": [
    "# (문제2) 행렬의 덧셈"
   ]
  },
  {
   "cell_type": "markdown",
   "metadata": {},
   "source": [
    "행렬의 덧셈은 행과 열의 크기가 같은 두 행렬의 같은 행, 같은 열의 값을 서로 더한 결과가 됩니다. 2개의 행렬을 입력받는 sumMatrix 함수를 완성하여 행렬 덧셈의 결과를 반환해 주세요.\n",
    "\n",
    "예를 들어 2x2 행렬인 A = ((1, 2), (2, 3)), B = ((3, 4), (5, 6)) 가 주어지면, 같은 2x2 행렬인 ((4, 6), (7, 9))를 반환하면 됩니다.(어떠한 행렬에도 대응하는 함수를 완성해주세요.)\n",
    "<br>\n",
    "[프로그래머스_행렬의 덧셈](https://programmers.co.kr/learn/challenge_codes/148)\n",
    "\n",
    "참고: [Python Program to Add Two Matrices](https://www.programiz.com/python-programming/examples/add-matrix)\n"
   ]
  },
  {
   "cell_type": "markdown",
   "metadata": {},
   "source": [
    "<p style=\"color:red\"> matrix의 sum은? </p>\n",
    "<p style=\"color:gray\"> matrix의 각각의 위치값을 반환하여 같은 위치의 있는 숫자들을 더한다. </p>\n",
    "1. 행렬이 어떻게 이루어져 있는지 확인하기\n",
    "2. 같은 위치의 값끼리 더하기 \n",
    "3. 어떤 행렬이 오던 가능하게 \n",
    "4. 다른 방법들.."
   ]
  },
  {
   "cell_type": "markdown",
   "metadata": {},
   "source": [
    "### 1. 행렬이 어떻게 이루어져있는지 확인하기 \n",
    "> 인덱스 **2번**으로 접근할 수 있다. "
   ]
  },
  {
   "cell_type": "code",
   "execution_count": 5,
   "metadata": {
    "scrolled": true
   },
   "outputs": [
    {
     "name": "stdout",
     "output_type": "stream",
     "text": [
      "[[1, 2], [2, 3]]\n",
      "[[3, 4], [5, 6]]\n"
     ]
    }
   ],
   "source": [
    "A = [[1, 2], [2, 3]]\n",
    "print(A)\n",
    "B = [[3, 4], [5, 6]]\n",
    "print(B)"
   ]
  },
  {
   "cell_type": "code",
   "execution_count": 6,
   "metadata": {
    "scrolled": true
   },
   "outputs": [
    {
     "data": {
      "text/plain": [
       "[1, 2]"
      ]
     },
     "execution_count": 6,
     "metadata": {},
     "output_type": "execute_result"
    }
   ],
   "source": [
    "A[0]"
   ]
  },
  {
   "cell_type": "code",
   "execution_count": 7,
   "metadata": {
    "scrolled": false
   },
   "outputs": [
    {
     "name": "stdout",
     "output_type": "stream",
     "text": [
      "1\n",
      "2\n",
      "2\n",
      "3\n"
     ]
    }
   ],
   "source": [
    "print(A[0][0])\n",
    "print(A[0][1])\n",
    "print(A[1][0])\n",
    "print(A[1][1])"
   ]
  },
  {
   "cell_type": "code",
   "execution_count": 8,
   "metadata": {},
   "outputs": [
    {
     "name": "stdout",
     "output_type": "stream",
     "text": [
      "0\n"
     ]
    }
   ],
   "source": [
    "print(A.index([1, 2]))"
   ]
  },
  {
   "cell_type": "code",
   "execution_count": 9,
   "metadata": {},
   "outputs": [
    {
     "name": "stdout",
     "output_type": "stream",
     "text": [
      "1\n"
     ]
    }
   ],
   "source": [
    "print(A.index([2, 3]))"
   ]
  },
  {
   "cell_type": "markdown",
   "metadata": {},
   "source": [
    "### 2. 같은 위치의 값끼리 더하기 \n",
    "> for문을 두번 사용하게 된다. <br>\n",
    "> 다시 말하면, 행렬에 접근하기 위해서는 <br> \n",
    "> => **A[i][j]** <br>\n",
    "> <u> 행의 인덱스, 줄의 인덱스 **조합**</u>으로 나타낼 수 있다. \n",
    "\n",
    "#### Matrix Addition using Nested Loop \n",
    "In this program we have used nested for loops to iterate through each row and each column. At each point we add the corresponding elements in the two matrices and store it in the result."
   ]
  },
  {
   "cell_type": "code",
   "execution_count": 10,
   "metadata": {
    "collapsed": true
   },
   "outputs": [],
   "source": [
    "X = [[12,7,3],\n",
    "    [4 ,5,6],\n",
    "    [7 ,8,9]]\n",
    "\n",
    "Y = [[5,8,1],\n",
    "    [6,7,3],\n",
    "    [4,5,9]]\n",
    "\n",
    "result = [[0,0,0],\n",
    "         [0,0,0],\n",
    "         [0,0,0]]"
   ]
  },
  {
   "cell_type": "code",
   "execution_count": 11,
   "metadata": {
    "scrolled": true
   },
   "outputs": [
    {
     "name": "stdout",
     "output_type": "stream",
     "text": [
      "[[17, 15, 4], [10, 12, 9], [11, 13, 18]]\n",
      "[17, 15, 4]\n",
      "[10, 12, 9]\n",
      "[11, 13, 18]\n"
     ]
    }
   ],
   "source": [
    "for i in range(len(X)):\n",
    "    for j in range(len(X[0])):\n",
    "        result[i][j] = X[i][j] + Y[i][j]\n",
    "\n",
    "print(result)\n",
    "\n",
    "for r in result:\n",
    "    print(r)"
   ]
  },
  {
   "cell_type": "markdown",
   "metadata": {},
   "source": [
    "> 이처럼 for문을 두번 사용해 i, j에 접근할 수 있도록 하고 \n",
    "그 상태에서 matrix를 더해준다."
   ]
  },
  {
   "cell_type": "markdown",
   "metadata": {},
   "source": [
    "#### for문을 사용해서 행렬 A, B 더하기 "
   ]
  },
  {
   "cell_type": "code",
   "execution_count": 12,
   "metadata": {
    "collapsed": true
   },
   "outputs": [],
   "source": [
    "rmatrix = [[0, 0], [0, 0]]"
   ]
  },
  {
   "cell_type": "code",
   "execution_count": 13,
   "metadata": {
    "scrolled": true
   },
   "outputs": [
    {
     "name": "stdout",
     "output_type": "stream",
     "text": [
      "A: [1, 2]\n",
      "A 행의 위치가 0일 때,\n",
      "해당 A행에 해당하는 j의 위치는? :0\n",
      "그 때의 값은? 1\n",
      "[[1, 2], [2, 3]]\n",
      "[[3, 4], [5, 6]]\n",
      "A 행의 위치가 0일 때,\n",
      "해당 A행에 해당하는 j의 위치는? :1\n",
      "그 때의 값은? 2\n",
      "[[1, 2], [2, 3]]\n",
      "[[3, 4], [5, 6]]\n",
      "A: [2, 3]\n",
      "A 행의 위치가 1일 때,\n",
      "해당 A행에 해당하는 j의 위치는? :0\n",
      "그 때의 값은? 2\n",
      "[[1, 2], [2, 3]]\n",
      "[[3, 4], [5, 6]]\n",
      "A 행의 위치가 1일 때,\n",
      "해당 A행에 해당하는 j의 위치는? :1\n",
      "그 때의 값은? 3\n",
      "[[1, 2], [2, 3]]\n",
      "[[3, 4], [5, 6]]\n",
      "===================\n",
      "답: [[4, 6], [7, 9]]\n"
     ]
    }
   ],
   "source": [
    "for i in range(len(A)):\n",
    "#     print(\"i: \" + str(i))\n",
    "    print(\"A: \" + str(A[i]))\n",
    "    for j in range(len(A[0])):\n",
    "        print(\"A 행의 위치가 \"+ str(i) + \"일 때,\")\n",
    "        print(\"해당 A행에 해당하는 j의 위치는? :\" + str(j))\n",
    "        print(\"그 때의 값은? \" + str(A[i][j]))\n",
    "        rmatrix[i][j] = A[i][j] + B[i][j]\n",
    "        print(A)\n",
    "        print(B)\n",
    "print(\"===================\")\n",
    "print(\"답: \" + str(rmatrix))"
   ]
  },
  {
   "cell_type": "markdown",
   "metadata": {},
   "source": [
    "#### 행렬 A, B 더하기를 함수로 만들기 "
   ]
  },
  {
   "cell_type": "code",
   "execution_count": 14,
   "metadata": {
    "collapsed": true
   },
   "outputs": [],
   "source": [
    "def sumMatrix(A, B):\n",
    "    answer = [[0, 0], [0, 0]]\n",
    "#     answer = []\n",
    "    for i in range(len(A)): # 행의 갯수만큼\n",
    "        for j in range(len(A[0])): # 열의 갯수 만큼\n",
    "            answer[i][j] = A[i][j] + B[i][j]        \n",
    "    return answer"
   ]
  },
  {
   "cell_type": "code",
   "execution_count": 15,
   "metadata": {},
   "outputs": [
    {
     "name": "stdout",
     "output_type": "stream",
     "text": [
      "[[4, 6], [7, 9]]\n"
     ]
    }
   ],
   "source": [
    "print(sumMatrix([[1, 2], [2, 3]], [[3, 4], [5, 6]]))"
   ]
  },
  {
   "cell_type": "markdown",
   "metadata": {},
   "source": [
    "### 3. 어떤 행렬이 오던 가능하게\n",
    "> answer = [[0,0], [0,0]] <br>\n",
    "> 이런식으로 정의내리면 다른 모양의 행렬은 올 수 없게 됨. <br>\n",
    "> 따라서, 다른 방법이 필요함\n",
    "\n",
    "#### Matrix Addition using Nested List Comprehension"
   ]
  },
  {
   "cell_type": "code",
   "execution_count": 16,
   "metadata": {},
   "outputs": [
    {
     "name": "stdout",
     "output_type": "stream",
     "text": [
      "[[17, 15, 4], [10, 12, 9], [11, 13, 18]]\n"
     ]
    }
   ],
   "source": [
    "X = [[12,7,3],\n",
    "    [4 ,5,6],\n",
    "    [7 ,8,9]]\n",
    "\n",
    "Y = [[5,8,1],\n",
    "    [6,7,3],\n",
    "    [4,5,9]]\n",
    "\n",
    "result = [\n",
    "    [\n",
    "        X[i][j] + Y[i][j]  for j in range(len(X[0]))\n",
    "    ] for i in range(len(X))\n",
    "]\n",
    "\n",
    "print(result)"
   ]
  },
  {
   "cell_type": "code",
   "execution_count": 17,
   "metadata": {
    "collapsed": true
   },
   "outputs": [],
   "source": [
    "# 17ms\n",
    "anwser = [[A[i][j] + B[i][j] for j in range(len(A[0]))] for i in range(len(A))]"
   ]
  },
  {
   "cell_type": "code",
   "execution_count": 18,
   "metadata": {},
   "outputs": [
    {
     "name": "stdout",
     "output_type": "stream",
     "text": [
      "[[4, 6], [7, 9]]\n"
     ]
    }
   ],
   "source": [
    "print(anwser)"
   ]
  },
  {
   "cell_type": "markdown",
   "metadata": {},
   "source": [
    "### 다른 방법들로 연습해보기\n",
    "A = [[1, 2],<br> \n",
    "&nbsp;&nbsp;&nbsp;&nbsp;&nbsp;&nbsp;&nbsp;[2, 3]]\n",
    "<br>\n",
    "B = [[3, 4], <br>\n",
    "&nbsp;&nbsp;&nbsp;&nbsp;&nbsp;&nbsp;&nbsp;[5, 6]] "
   ]
  },
  {
   "cell_type": "markdown",
   "metadata": {},
   "source": [
    "### zip()함수 사용한 풀이?\n",
    "<p style=\"color:gray\">zip()은 동일한 개수로 이루어진 자료형을 묶어 주는 역할을 하는 함수이다.</p>\n",
    "참고 사이트: [위키독스..zip()](https://wikidocs.net/32) <br>\n",
    "zip()연습은 이 뒤에.. !"
   ]
  },
  {
   "cell_type": "code",
   "execution_count": 19,
   "metadata": {},
   "outputs": [
    {
     "name": "stdout",
     "output_type": "stream",
     "text": [
      "[[4, 6], [7, 9]]\n"
     ]
    }
   ],
   "source": [
    "answer2 = [[c + d for c, d in zip(a, b)] for a, b in zip(A, B)]\n",
    "print(answer2)"
   ]
  },
  {
   "cell_type": "code",
   "execution_count": 20,
   "metadata": {},
   "outputs": [
    {
     "name": "stdout",
     "output_type": "stream",
     "text": [
      "큰 zip 묶기 한번에\n",
      "a: [1, 2]\n",
      "b: [3, 4]\n",
      "작은 zip 묶기 두번\n",
      "c: 1\n",
      "d: 3\n",
      "c+d: 4\n",
      "작은 zip 묶기 두번\n",
      "c: 2\n",
      "d: 4\n",
      "c+d: 6\n",
      "큰 zip 묶기 한번에\n",
      "a: [2, 3]\n",
      "b: [5, 6]\n",
      "작은 zip 묶기 두번\n",
      "c: 2\n",
      "d: 5\n",
      "c+d: 7\n",
      "작은 zip 묶기 두번\n",
      "c: 3\n",
      "d: 6\n",
      "c+d: 9\n"
     ]
    }
   ],
   "source": [
    "for a, b in zip(A, B): \n",
    "    print(\"큰 zip 묶기 한번에\")\n",
    "    print(\"a: \" + str(a))\n",
    "    print(\"b: \" + str(b))\n",
    "    for c, d in zip(a, b):\n",
    "        print(\"작은 zip 묶기 두번\")\n",
    "        print(\"c: \" + str(c))\n",
    "        print(\"d: \" + str(d))\n",
    "        print(\"c+d: \"+ str(c + d))"
   ]
  },
  {
   "cell_type": "code",
   "execution_count": 21,
   "metadata": {},
   "outputs": [
    {
     "name": "stdout",
     "output_type": "stream",
     "text": [
      "[[4, 6], [7, 9]]\n"
     ]
    }
   ],
   "source": [
    "# 16ms\n",
    "def sumMatrix(A, B):\n",
    "    answer = [[c+d for c, d in zip(a, b)] for a, b in zip(A, B)]\n",
    "    return answer\n",
    "print(sumMatrix([[1, 2], [2, 3]], [[3, 4],[5, 6]]))"
   ]
  },
  {
   "cell_type": "markdown",
   "metadata": {},
   "source": [
    "### 하나의 행렬에 하나의 행렬 더한 풀이! "
   ]
  },
  {
   "cell_type": "code",
   "execution_count": 22,
   "metadata": {},
   "outputs": [
    {
     "name": "stdout",
     "output_type": "stream",
     "text": [
      "[[4, 6], [7, 9]]\n"
     ]
    }
   ],
   "source": [
    "# 21ms\n",
    "def sumMatrix(A, B):\n",
    "    for i in range(len(A)):\n",
    "        for j in range(len(A[0])):\n",
    "            A[i][j] += B[i][j]\n",
    "    return A\n",
    "print(sumMatrix([[1, 2], [2, 3]], [[3, 4],[5, 6]]))"
   ]
  },
  {
   "cell_type": "markdown",
   "metadata": {},
   "source": [
    "### numpy사용한 풀이\n",
    "> numpy를 이용해서 더한 후, .tolist()로 리스트로 변환"
   ]
  },
  {
   "cell_type": "code",
   "execution_count": 23,
   "metadata": {},
   "outputs": [
    {
     "name": "stdout",
     "output_type": "stream",
     "text": [
      "[[4 6]\n",
      " [7 9]]\n",
      "[[4, 6], [7, 9]]\n"
     ]
    }
   ],
   "source": [
    "# 341ms\n",
    "import numpy as np\n",
    "def sumMatrix(A, B):\n",
    "    A = np.array(A)\n",
    "    B = np.array(B)\n",
    "    answer = A+B\n",
    "    print(answer)\n",
    "    return answer.tolist()\n",
    "#     return answer\n",
    "print(sumMatrix([[1, 2], [2, 3]], [[3, 4],[5, 6]]))"
   ]
  },
  {
   "cell_type": "markdown",
   "metadata": {},
   "source": [
    "### nested loop로 하려면? \n",
    "> list 안에 list"
   ]
  },
  {
   "cell_type": "code",
   "execution_count": 24,
   "metadata": {},
   "outputs": [
    {
     "name": "stdout",
     "output_type": "stream",
     "text": [
      "[[4, 6, 9], [7, 9, 2], [7, 9, 1]]\n"
     ]
    }
   ],
   "source": [
    "def sumMatrix(A, B):\n",
    "    answer = []\n",
    "    for i in range(len(A)):\n",
    "        listinlist = []\n",
    "        for j in range(len(A[0])):\n",
    "            listinlist.append(A[i][j]+B[i][j])\n",
    "        answer.append(listinlist)\n",
    "    return answer\n",
    "print(sumMatrix([[1,2,7], [2,3,1], [2,3,1]], [[3,4,2], [5,6,1], [5,6,0]]))        "
   ]
  },
  {
   "cell_type": "markdown",
   "metadata": {},
   "source": [
    "# (문제3) 같은 숫자는 싫어"
   ]
  },
  {
   "cell_type": "code",
   "execution_count": 25,
   "metadata": {
    "collapsed": true
   },
   "outputs": [],
   "source": [
    "def no_countinuous(s):\n",
    "    sep = set(s)\n",
    "    return sep"
   ]
  },
  {
   "cell_type": "code",
   "execution_count": 26,
   "metadata": {},
   "outputs": [
    {
     "data": {
      "text/plain": [
       "{'0', '1', '3'}"
      ]
     },
     "execution_count": 26,
     "metadata": {},
     "output_type": "execute_result"
    }
   ],
   "source": [
    "no_countinuous(\"133303\")"
   ]
  },
  {
   "cell_type": "code",
   "execution_count": 27,
   "metadata": {
    "collapsed": true
   },
   "outputs": [],
   "source": [
    "def no_countinuous_answer(s):\n",
    "    r = []\n",
    "    for i in range(len(s)):\n",
    "        if i == 0:\n",
    "            r.append(s[i])\n",
    "        elif s[i] != s[i-1]:\n",
    "            r.append(s[i])\n",
    "        return r\n",
    "    "
   ]
  },
  {
   "cell_type": "code",
   "execution_count": 28,
   "metadata": {
    "scrolled": true
   },
   "outputs": [
    {
     "data": {
      "text/plain": [
       "['1']"
      ]
     },
     "execution_count": 28,
     "metadata": {},
     "output_type": "execute_result"
    }
   ],
   "source": [
    "no_countinuous_answer(\"133303\")"
   ]
  },
  {
   "cell_type": "code",
   "execution_count": 29,
   "metadata": {
    "collapsed": true
   },
   "outputs": [],
   "source": [
    "def no_countinous_2(s):\n",
    "    result = []\n",
    "    compare = \"\"\n",
    "    for now in s:\n",
    "        print(\"비교 값: \" + compare)\n",
    "        print(\"지금 값: \" + now)\n",
    "        if compare != now:\n",
    "            compare = now\n",
    "            result.append(now)\n",
    "    return (result)\n",
    "# 이전값이 계속 유지가 되어야 함\n",
    "# 비교값과 비교되는 값을 확실히 !\n",
    "# 필요없는 경우는 뛰어넘을 수도 \n",
    "# compare에는 반복된 숫자의 경우, 첫번째 반복 숫자만 들어간다.\n"
   ]
  },
  {
   "cell_type": "code",
   "execution_count": 30,
   "metadata": {},
   "outputs": [
    {
     "name": "stdout",
     "output_type": "stream",
     "text": [
      "비교 값: \n",
      "지금 값: 4\n",
      "비교 값: 4\n",
      "지금 값: 7\n",
      "비교 값: 7\n",
      "지금 값: 3\n",
      "비교 값: 3\n",
      "지금 값: 3\n",
      "비교 값: 3\n",
      "지금 값: 0\n"
     ]
    },
    {
     "data": {
      "text/plain": [
       "['4', '7', '3', '0']"
      ]
     },
     "execution_count": 30,
     "metadata": {},
     "output_type": "execute_result"
    }
   ],
   "source": [
    "no_countinous_2(\"47330\")"
   ]
  },
  {
   "cell_type": "markdown",
   "metadata": {},
   "source": [
    "# (문제4) 서울에서 김서방 찾기\n",
    "findKim 함수(메소드)는 String형 배열 seoul을 매개변수로 받습니다.\n",
    "\n",
    "seoul의 element중 Kim의 위치 x를 찾아, 김서방은 x에 있다는 String을 반환하세요.\n",
    "seoul에 Kim은 오직 한 번만 나타나며 잘못된 값이 입력되는 경우는 없습니다.\n",
    "<br>\n",
    "[프로그래머스_서울에서김서방찾기](https://programmers.co.kr/learn/challenge_codes/105)\n",
    "\n",
    "<br>\n",
    "<br>\n",
    "참고: [hiuni와 함께 세상보기_python을 배워봅시다](http://blog.daum.net/bioinf/6543752)"
   ]
  },
  {
   "cell_type": "code",
   "execution_count": 31,
   "metadata": {
    "collapsed": true
   },
   "outputs": [],
   "source": [
    "from IPython.core.interactiveshell import InteractiveShell\n",
    "InteractiveShell.ast_node_interactivity = 'all'"
   ]
  },
  {
   "cell_type": "code",
   "execution_count": 32,
   "metadata": {},
   "outputs": [
    {
     "name": "stdout",
     "output_type": "stream",
     "text": [
      "2\n"
     ]
    }
   ],
   "source": [
    "seoul = [\"Queen\", \"Tod\", \"Kim\"]\n",
    "\n",
    "whereis = \"Kim\"\n",
    "\n",
    "print(seoul.index(whereis))"
   ]
  },
  {
   "cell_type": "markdown",
   "metadata": {},
   "source": [
    "#### format()"
   ]
  },
  {
   "cell_type": "code",
   "execution_count": 33,
   "metadata": {},
   "outputs": [
    {
     "name": "stdout",
     "output_type": "stream",
     "text": [
      "김서방은 3에 있다.\n"
     ]
    }
   ],
   "source": [
    "print(\"김서방은 {}에 있다.\".format(3))"
   ]
  },
  {
   "cell_type": "code",
   "execution_count": 34,
   "metadata": {
    "collapsed": true
   },
   "outputs": [],
   "source": [
    "def findKim(seoul):\n",
    "    kimIdx = 0\n",
    "    name = \"Kim\"\n",
    "    print(seoul.index(name))\n",
    "    kimIdx = seoul.index(name)\n",
    "    return \"김서방은 {}에 있다.\".format(kimIdx)"
   ]
  },
  {
   "cell_type": "code",
   "execution_count": 35,
   "metadata": {},
   "outputs": [
    {
     "name": "stdout",
     "output_type": "stream",
     "text": [
      "2\n",
      "김서방은 2에 있다.\n"
     ]
    }
   ],
   "source": [
    "print(findKim([\"Queen\", \"Tod\", \"Kim\"]))"
   ]
  },
  {
   "cell_type": "markdown",
   "metadata": {},
   "source": [
    "# (문제5) 홀수와 짝수\n",
    "evenOrOdd 메소드는 int형 num을 매개변수로 받습니다.\n",
    "num이 짝수일 경우 Even을 반환하고 홀수인 경우 Odd를 반환하도록 evenOrOdd에 코드를 작성해 보세요.\n",
    "num은 0이상의 정수이며, num이 음수인 경우는 없습니다.\n",
    "<br>\n",
    "[프로그래머스_짝수와 홀수](https://programmers.co.kr/learn/challenge_codes/124)"
   ]
  },
  {
   "cell_type": "code",
   "execution_count": 36,
   "metadata": {
    "collapsed": true
   },
   "outputs": [],
   "source": [
    "def evenOrOdd(num):\n",
    "    s = \"\"\n",
    "    if num % 2 == 0: \n",
    "        s = \"Even\"\n",
    "    else:\n",
    "        s = \"Odd\"\n",
    "    return s"
   ]
  },
  {
   "cell_type": "code",
   "execution_count": 37,
   "metadata": {},
   "outputs": [
    {
     "name": "stdout",
     "output_type": "stream",
     "text": [
      "결과 : Odd\n"
     ]
    }
   ],
   "source": [
    "print(\"결과 : \" + evenOrOdd(3))"
   ]
  },
  {
   "cell_type": "code",
   "execution_count": 38,
   "metadata": {},
   "outputs": [
    {
     "name": "stdout",
     "output_type": "stream",
     "text": [
      "결과 : Even\n"
     ]
    }
   ],
   "source": [
    "print(\"결과 : \" + evenOrOdd(2))"
   ]
  },
  {
   "cell_type": "markdown",
   "metadata": {},
   "source": [
    "# 개념 연습하기"
   ]
  },
  {
   "cell_type": "markdown",
   "metadata": {},
   "source": [
    "## zip()\n",
    "zip(iterable*)은 동일한 개수로 이루어진 자료형을 묶어 주는 역할을 하는 함수이다."
   ]
  },
  {
   "cell_type": "code",
   "execution_count": 39,
   "metadata": {},
   "outputs": [
    {
     "data": {
      "text/plain": [
       "[(1, 4), (2, 5), (3, 6)]"
      ]
     },
     "execution_count": 39,
     "metadata": {},
     "output_type": "execute_result"
    }
   ],
   "source": [
    "list(zip([1, 2, 3], [4, 5, 6]))"
   ]
  },
  {
   "cell_type": "code",
   "execution_count": 40,
   "metadata": {},
   "outputs": [
    {
     "data": {
      "text/plain": [
       "[(1, 4, 7), (2, 5, 8), (3, 6, 9)]"
      ]
     },
     "execution_count": 40,
     "metadata": {},
     "output_type": "execute_result"
    }
   ],
   "source": [
    "list(zip([1, 2, 3], [4, 5, 6], [7, 8, 9]))"
   ]
  },
  {
   "cell_type": "code",
   "execution_count": 41,
   "metadata": {},
   "outputs": [
    {
     "data": {
      "text/plain": [
       "[('a', 'd'), ('b', 'e'), ('c', 'f')]"
      ]
     },
     "execution_count": 41,
     "metadata": {},
     "output_type": "execute_result"
    }
   ],
   "source": [
    "list(zip(\"abc\", \"def\"))"
   ]
  },
  {
   "cell_type": "markdown",
   "metadata": {
    "collapsed": true
   },
   "source": [
    "# (문제6) 문자열 다루기 기본\n",
    "alpha_string46함수는 문자열 s를 매개변수로 입력받습니다.\n",
    "s의 길이가 4혹은 6이고, 숫자로만 구성되있는지 확인해주는 함수를 완성하세요.\n",
    "예를들어 s가 a234이면 False를 리턴하고 1234라면 True를 리턴하면 됩니다 <br>\n",
    "[문자열 다루기 기본](https://programmers.co.kr/learn/challenge_codes/100)"
   ]
  },
  {
   "cell_type": "markdown",
   "metadata": {},
   "source": [
    "### <p style=\"color:red\"> check! 하는 방법 </p>\n",
    "1. 해당 문자가 있는지 체크\n",
    "2. str인가 int인가를 체크\n",
    "3. 길이가 4, 6 인가를 체크"
   ]
  },
  {
   "cell_type": "markdown",
   "metadata": {},
   "source": [
    "### 1. 해당 문자가 있는지 체크하는 방법 "
   ]
  },
  {
   "cell_type": "code",
   "execution_count": 42,
   "metadata": {},
   "outputs": [
    {
     "name": "stdout",
     "output_type": "stream",
     "text": [
      "no\n"
     ]
    }
   ],
   "source": [
    "if 'c' in 'python':\n",
    "    print('yes')\n",
    "else:\n",
    "    print('no')"
   ]
  },
  {
   "cell_type": "markdown",
   "metadata": {},
   "source": [
    "### 2. str인가 int인가를 체크하는 방법\n",
    "> 1. isinstance(#, #)\n",
    "<p style=\"color:gray\">isinstance 경우에는 int도 s로 받아버림</p>\n",
    "> 2. #.isdigit()\n",
    "<p style=\"color:gray\">\"0\".isdigit()으로 \"\"안에 있는 것이 숫자인지 문자인지 확인할 수 있다. </p>"
   ]
  },
  {
   "cell_type": "code",
   "execution_count": 43,
   "metadata": {},
   "outputs": [
    {
     "data": {
      "text/plain": [
       "False"
      ]
     },
     "execution_count": 43,
     "metadata": {},
     "output_type": "execute_result"
    },
    {
     "data": {
      "text/plain": [
       "True"
      ]
     },
     "execution_count": 43,
     "metadata": {},
     "output_type": "execute_result"
    },
    {
     "data": {
      "text/plain": [
       "True"
      ]
     },
     "execution_count": 43,
     "metadata": {},
     "output_type": "execute_result"
    }
   ],
   "source": [
    "isinstance(1, str)\n",
    "isinstance(2, int)\n",
    "isinstance(1234, int)"
   ]
  },
  {
   "cell_type": "code",
   "execution_count": 44,
   "metadata": {
    "scrolled": true
   },
   "outputs": [
    {
     "data": {
      "text/plain": [
       "True"
      ]
     },
     "execution_count": 44,
     "metadata": {},
     "output_type": "execute_result"
    }
   ],
   "source": [
    "\"1234\".isdigit()"
   ]
  },
  {
   "cell_type": "code",
   "execution_count": 45,
   "metadata": {},
   "outputs": [
    {
     "data": {
      "text/plain": [
       "int"
      ]
     },
     "execution_count": 45,
     "metadata": {},
     "output_type": "execute_result"
    }
   ],
   "source": [
    "type(1234)"
   ]
  },
  {
   "cell_type": "markdown",
   "metadata": {},
   "source": [
    "### 3. 길이가 4인지 6인지 확인하는 방법\n",
    "길이가 4이거나 6일 때에는, true"
   ]
  },
  {
   "cell_type": "code",
   "execution_count": 46,
   "metadata": {},
   "outputs": [
    {
     "name": "stdout",
     "output_type": "stream",
     "text": [
      "False\n"
     ]
    }
   ],
   "source": [
    "checkinglen = \"1233444\"\n",
    "if len(checkinglen) == 4 or len(checkinglen) == 6:\n",
    "    print(True)\n",
    "else:\n",
    "    print(False)"
   ]
  },
  {
   "cell_type": "code",
   "execution_count": 47,
   "metadata": {},
   "outputs": [
    {
     "name": "stdout",
     "output_type": "stream",
     "text": [
      "4\n"
     ]
    }
   ],
   "source": [
    "print(len(\"1234\"))"
   ]
  },
  {
   "cell_type": "code",
   "execution_count": 48,
   "metadata": {},
   "outputs": [
    {
     "name": "stdout",
     "output_type": "stream",
     "text": [
      "False\n"
     ]
    }
   ],
   "source": [
    "if len(checkinglen) == 4:\n",
    "    print(True)\n",
    "else:\n",
    "    print(False)"
   ]
  },
  {
   "cell_type": "code",
   "execution_count": 49,
   "metadata": {
    "collapsed": true
   },
   "outputs": [],
   "source": [
    "def alpha_string46(s):\n",
    "    if len(s) == 4 or len(s) == 6:\n",
    "        print(True)\n",
    "        result = s.isdigit()\n",
    "    else:\n",
    "        result = False\n",
    "    return result"
   ]
  },
  {
   "cell_type": "markdown",
   "metadata": {},
   "source": [
    "#### (초기값 설정해서 하기)"
   ]
  },
  {
   "cell_type": "code",
   "execution_count": 50,
   "metadata": {
    "collapsed": true
   },
   "outputs": [],
   "source": [
    "def alpha_string46(s):\n",
    "    result = False\n",
    "    if len(s) == 4 or len(s) == 6:\n",
    "        print(True)\n",
    "        result = s.isdigit()\n",
    "    return result"
   ]
  },
  {
   "cell_type": "code",
   "execution_count": 51,
   "metadata": {},
   "outputs": [
    {
     "name": "stdout",
     "output_type": "stream",
     "text": [
      "False\n"
     ]
    }
   ],
   "source": [
    "print(alpha_string46(\"52345\"))"
   ]
  },
  {
   "cell_type": "code",
   "execution_count": 52,
   "metadata": {},
   "outputs": [
    {
     "name": "stdout",
     "output_type": "stream",
     "text": [
      "True\n",
      "True\n"
     ]
    }
   ],
   "source": [
    "print(alpha_string46(\"1234\"))"
   ]
  },
  {
   "cell_type": "markdown",
   "metadata": {},
   "source": [
    "### 다른 방법들로 연습해보기\n",
    "1. conditional statement 사용하기\n",
    "2. regex"
   ]
  },
  {
   "cell_type": "markdown",
   "metadata": {},
   "source": [
    "### conditional statement 사용하기"
   ]
  },
  {
   "cell_type": "code",
   "execution_count": 53,
   "metadata": {},
   "outputs": [
    {
     "name": "stdout",
     "output_type": "stream",
     "text": [
      "False\n",
      "True\n",
      "False\n"
     ]
    }
   ],
   "source": [
    "def alpha_string46_2(s):\n",
    "    return s.isdigit() and (len(s) == 4 or len(s) == 6)\n",
    "print(alpha_string46_2(\"52345\"))\n",
    "print(alpha_string46_2(\"1234\"))\n",
    "print(alpha_string46_2(\"a1234\"))"
   ]
  },
  {
   "cell_type": "code",
   "execution_count": 54,
   "metadata": {},
   "outputs": [
    {
     "name": "stdout",
     "output_type": "stream",
     "text": [
      "False\n",
      "True\n",
      "False\n"
     ]
    }
   ],
   "source": [
    "def alpha_string46_4(s):\n",
    "    return s.indigit() and len(s) in (4, 6)\n",
    "print(alpha_string46_2(\"52345\"))\n",
    "print(alpha_string46_2(\"1234\"))\n",
    "print(alpha_string46_2(\"a1234\"))"
   ]
  },
  {
   "cell_type": "markdown",
   "metadata": {},
   "source": [
    "### regex 사용하기"
   ]
  },
  {
   "cell_type": "code",
   "execution_count": 55,
   "metadata": {},
   "outputs": [
    {
     "name": "stdout",
     "output_type": "stream",
     "text": [
      "False\n",
      "True\n",
      "False\n"
     ]
    }
   ],
   "source": [
    "def alpha_string46_3(s):\n",
    "    import re\n",
    "    return bool(re.match(\"^(\\d{4}|\\d{6})$\", s))\n",
    "print(alpha_string46_2(\"52345\"))\n",
    "print(alpha_string46_2(\"1234\"))\n",
    "print(alpha_string46_2(\"a1234\"))"
   ]
  },
  {
   "cell_type": "markdown",
   "metadata": {
    "collapsed": true
   },
   "source": [
    "# (문제7) 가운데 글자 가져오기\n",
    "getMiddle메소드는 하나의 단어를 입력 받습니다. 단어를 입력 받아서 가운데 글자를 반환하도록 getMiddle메소드를 만들어 보세요. 단어의 길이가 짝수일경우 가운데 두글자를 반환하면 됩니다.\n",
    "예를들어 입력받은 단어가 power이라면 w를 반환하면 되고, 입력받은 단어가 test라면 es를 반환하면 됩니다. <br>\n",
    "[가운데 글자 가져오기](https://programmers.co.kr/learn/challenge_codes/83)"
   ]
  },
  {
   "cell_type": "markdown",
   "metadata": {},
   "source": [
    "### 글자 반환하기\n",
    "1. len을 체크 홀수인가 짝수인가\n",
    "2. 가운데 값 체크\n",
    "2. 홀수/짝수에 따라서 가운데 글자를 반환\n",
    "\n",
    "참고: [python에서의 반올림/올림/내림/버림](http://gtolarc.logdown.com/posts/745126) <br>\n",
    "참고: [연산자](https://wikidocs.net/1165)"
   ]
  },
  {
   "cell_type": "code",
   "execution_count": 56,
   "metadata": {
    "collapsed": true
   },
   "outputs": [],
   "source": [
    "import math as math"
   ]
  },
  {
   "cell_type": "code",
   "execution_count": 58,
   "metadata": {
    "scrolled": true
   },
   "outputs": [
    {
     "name": "stdout",
     "output_type": "stream",
     "text": [
      "5\n",
      "w\n",
      "올림: e\n",
      "반올림: w\n",
      "6\n",
      "3\n",
      "we\n"
     ]
    }
   ],
   "source": [
    "# 홀수일경우\n",
    "string = \"power\"\n",
    "print(len(string))\n",
    "length1 = math.ceil(len(string) / 2)\n",
    "length2 = round(len(string) / 2)\n",
    "\n",
    "# w를 가져오려면\n",
    "print(string[2])\n",
    "print(\"올림: \" + string[length1])\n",
    "print(\"반올림: \" + string[length2])\n",
    "\n",
    "# 짝수일경우\n",
    "string2 = \"powers\"\n",
    "print(len(string2))\n",
    "length3 = int(len(string2)/2)\n",
    "print(length3)\n",
    "print(string2[length3-1:length3+1])"
   ]
  },
  {
   "cell_type": "code",
   "execution_count": 59,
   "metadata": {},
   "outputs": [
    {
     "name": "stdout",
     "output_type": "stream",
     "text": [
      "2.5\n",
      "3.0\n"
     ]
    }
   ],
   "source": [
    "word1 = \"power\"\n",
    "word2 = \"powers\"\n",
    "# length = len(word1)\n",
    "length1 = len(word1)\n",
    "length2 = len(word2)\n",
    "\n",
    "print(length1 / 2)\n",
    "\n",
    "print(length2 / 2)\n",
    "\n",
    "\n",
    "# 0.5가 나오는 것은 홀수, 0.5가 아닌 것은 짝수로 볼 수 있나?\n",
    "# 정규표현식으로 소수점만?"
   ]
  },
  {
   "cell_type": "code",
   "execution_count": 60,
   "metadata": {},
   "outputs": [
    {
     "ename": "SyntaxError",
     "evalue": "invalid syntax (<ipython-input-60-f022e044d386>, line 1)",
     "output_type": "error",
     "traceback": [
      "\u001b[1;36m  File \u001b[1;32m\"<ipython-input-60-f022e044d386>\"\u001b[1;36m, line \u001b[1;32m1\u001b[0m\n\u001b[1;33m    if length1/2 %\u001b[0m\n\u001b[1;37m                   ^\u001b[0m\n\u001b[1;31mSyntaxError\u001b[0m\u001b[1;31m:\u001b[0m invalid syntax\n"
     ]
    }
   ],
   "source": [
    "if length1/2 % "
   ]
  },
  {
   "cell_type": "code",
   "execution_count": 61,
   "metadata": {
    "collapsed": true
   },
   "outputs": [],
   "source": [
    "def string_middle(str):\n",
    "    length = len(str)\n",
    "    if length % 2 == 0:\n",
    "        idx = int(length/2)\n",
    "        middle = str[idx-1:idx+1]\n",
    "    else:\n",
    "        idx = round(length/2)\n",
    "        middle = str[idx]\n",
    "    return middle"
   ]
  },
  {
   "cell_type": "code",
   "execution_count": 62,
   "metadata": {},
   "outputs": [
    {
     "name": "stdout",
     "output_type": "stream",
     "text": [
      "w\n",
      "we\n"
     ]
    }
   ],
   "source": [
    "print(string_middle(\"power\"))\n",
    "print(string_middle(\"powers\"))"
   ]
  },
  {
   "cell_type": "markdown",
   "metadata": {},
   "source": [
    "### 다른 방법들로 연습해보기"
   ]
  },
  {
   "cell_type": "markdown",
   "metadata": {},
   "source": [
    "#### 내가 한 거랑 비슷한 방법\n",
    "> 대신, **나누기 2**를 할 때, <br>\n",
    "> 5/2 = 2.5 <br>\n",
    "> 5//2 = 2 "
   ]
  },
  {
   "cell_type": "code",
   "execution_count": 63,
   "metadata": {},
   "outputs": [
    {
     "name": "stdout",
     "output_type": "stream",
     "text": [
      "2.5\n",
      "2\n",
      "w\n"
     ]
    }
   ],
   "source": [
    "def string_middle2(str):\n",
    "    l = len(str)\n",
    "    if l%2 != 0:\n",
    "        m = str[(l//2)]\n",
    "        print(l/2)\n",
    "        print(l//2)\n",
    "    else:\n",
    "        m = str[((l//2)-1):((l//2)+1)]\n",
    "    return m\n",
    "print(string_middle2(\"power\"))"
   ]
  },
  {
   "cell_type": "markdown",
   "metadata": {},
   "source": [
    "#### 간단한 방법"
   ]
  },
  {
   "cell_type": "code",
   "execution_count": 64,
   "metadata": {},
   "outputs": [
    {
     "name": "stdout",
     "output_type": "stream",
     "text": [
      "w\n",
      "we\n"
     ]
    }
   ],
   "source": [
    "def string_middle3(str):\n",
    "    return str[(len(str)-1)//2:len(str)//2+1]\n",
    "print(string_middle3(\"power\"))\n",
    "print(string_middle2(\"powers\"))"
   ]
  },
  {
   "cell_type": "code",
   "execution_count": 65,
   "metadata": {},
   "outputs": [
    {
     "name": "stdout",
     "output_type": "stream",
     "text": [
      "5\n",
      "3\n"
     ]
    }
   ],
   "source": [
    "print(len(\"power\")-1//2)\n",
    "print(len(\"power\")//2+1)"
   ]
  },
  {
   "cell_type": "code",
   "execution_count": 66,
   "metadata": {
    "scrolled": true
   },
   "outputs": [
    {
     "name": "stdout",
     "output_type": "stream",
     "text": [
      "6\n",
      "4\n"
     ]
    }
   ],
   "source": [
    "print(len(\"powers\")-1//2)\n",
    "print(len(\"powers\")//2+1)"
   ]
  },
  {
   "cell_type": "code",
   "execution_count": 67,
   "metadata": {},
   "outputs": [
    {
     "name": "stdout",
     "output_type": "stream",
     "text": [
      "4\n",
      "5\n"
     ]
    }
   ],
   "source": [
    "word = \"power\"\n",
    "print(len(word)-1)\n",
    "print(len(word)-1//2)"
   ]
  },
  {
   "cell_type": "markdown",
   "metadata": {},
   "source": [
    "# (문제8) 문자열 내 마음대로 정렬하기\n",
    "strange_sort함수는 strings와 n이라는 매개변수를 받아들입니다.\n",
    "strings는 문자열로 구성된 리스트인데, 각 문자열을 인덱스 n인 글자를 기준으로 정렬하면 됩니다.\n",
    "\n",
    "예를들어 strings가 [sun, bed, car]이고 n이 1이면 각 단어의 인덱스 1인 문자 u, e ,a를 기준으로 정렬해야 하므로 결과는 [car, bed, sun]이 됩니다.\n",
    "strange_sort함수를 완성해 보세요.\n",
    "<br>\n",
    "[문자열 내 마음대로 정렬하기](https://programmers.co.kr/learn/challenge_codes/95)\n",
    "\n",
    "### <p style=\"color:red\">lambda</p>\n",
    "참고: [PythonEngine](http://pyengine.blogspot.kr/2013/07/lambda.html)\n",
    "> 람다 함수는 람다 대수학에서 유래된 이름이다. 이름 없는 함수라고 불리는데, 단순하게 생각해서 일회용으로 쓰이는 함수이다. \n",
    "\n",
    "참고: [파이썬 정렬시 특정 기준으로 정렬하는 방법](https://wayhome25.github.io/python/2017/03/07/key-function/)\n"
   ]
  },
  {
   "cell_type": "code",
   "execution_count": 112,
   "metadata": {
    "collapsed": true
   },
   "outputs": [],
   "source": [
    "class Student:\n",
    "    def __init__(self, name, grade, age):\n",
    "        self.name = name\n",
    "        self.grade = grade\n",
    "        self.age = age\n",
    "    def __repr__(self):\n",
    "        return repr((self.name, self.grade, self.age))"
   ]
  },
  {
   "cell_type": "code",
   "execution_count": 113,
   "metadata": {},
   "outputs": [],
   "source": [
    "student_objects = [\n",
    "    Student('john', 'A', 15),\n",
    "    Student('jane', 'B', 12),\n",
    "    Student('dave', 'B', 10),\n",
    "]"
   ]
  },
  {
   "cell_type": "code",
   "execution_count": 114,
   "metadata": {},
   "outputs": [
    {
     "data": {
      "text/plain": [
       "[('dave', 'B', 10), ('jane', 'B', 12), ('john', 'A', 15)]"
      ]
     },
     "execution_count": 114,
     "metadata": {},
     "output_type": "execute_result"
    }
   ],
   "source": [
    "sorted(student_objects, key=lambda student: student.age)"
   ]
  },
  {
   "cell_type": "code",
   "execution_count": 116,
   "metadata": {},
   "outputs": [
    {
     "data": {
      "text/plain": [
       "[('john', 'A', 15), ('jane', 'B', 12), ('dave', 'B', 10)]"
      ]
     },
     "execution_count": 116,
     "metadata": {},
     "output_type": "execute_result"
    }
   ],
   "source": [
    "sorted(student_objects, key=lambda student: student.grade)"
   ]
  },
  {
   "cell_type": "code",
   "execution_count": 117,
   "metadata": {},
   "outputs": [
    {
     "data": {
      "text/plain": [
       "[-1, 2, 3, -4, 5, -7, -8]"
      ]
     },
     "execution_count": 117,
     "metadata": {},
     "output_type": "execute_result"
    }
   ],
   "source": [
    "a = [ -1, -8, 3, -4, 2, 5, -7]\n",
    "sorted(a, key=lambda x : x*x)"
   ]
  },
  {
   "cell_type": "code",
   "execution_count": 118,
   "metadata": {
    "collapsed": true
   },
   "outputs": [],
   "source": [
    "def strange_sort(strings, n):\n",
    "    return sorted(strings, key=lambda element:element[n])"
   ]
  },
  {
   "cell_type": "code",
   "execution_count": 119,
   "metadata": {
    "scrolled": true
   },
   "outputs": [
    {
     "name": "stdout",
     "output_type": "stream",
     "text": [
      "['car', 'bed', 'sun']\n"
     ]
    }
   ],
   "source": [
    "print( strange_sort([\"sun\", \"bed\", \"car\"], 1) )"
   ]
  },
  {
   "cell_type": "markdown",
   "metadata": {},
   "source": [
    "### 다른 방법들로 연습해보기"
   ]
  },
  {
   "cell_type": "code",
   "execution_count": 120,
   "metadata": {},
   "outputs": [
    {
     "name": "stdout",
     "output_type": "stream",
     "text": [
      "['car', 'bed', 'sun']\n"
     ]
    }
   ],
   "source": [
    "def strange_sort2(strings, n):\n",
    "    def sortkey(x):\n",
    "        return x[n]\n",
    "    strings.sort(key=sortkey)\n",
    "    return strings\n",
    "print( strange_sort([\"sun\", \"bed\", \"car\"], 1) )"
   ]
  },
  {
   "cell_type": "markdown",
   "metadata": {},
   "source": [
    "### 다른 개념들"
   ]
  },
  {
   "cell_type": "markdown",
   "metadata": {},
   "source": [
    "#### list안에 있는 string을 반환"
   ]
  },
  {
   "cell_type": "code",
   "execution_count": 68,
   "metadata": {},
   "outputs": [
    {
     "name": "stdout",
     "output_type": "stream",
     "text": [
      "['sun', 'bed', 'car']\n",
      "bed\n",
      "e\n"
     ]
    }
   ],
   "source": [
    "string_list = [\"sun\", \"bed\", \"car\"]\n",
    "print(string_list)\n",
    "print(string_list[1])\n",
    "print(string_list[1][1])"
   ]
  },
  {
   "cell_type": "code",
   "execution_count": 69,
   "metadata": {},
   "outputs": [
    {
     "name": "stdout",
     "output_type": "stream",
     "text": [
      "sun\n",
      "bed\n",
      "car\n"
     ]
    }
   ],
   "source": [
    "for idx in string_list:\n",
    "    print(idx)"
   ]
  },
  {
   "cell_type": "code",
   "execution_count": 70,
   "metadata": {},
   "outputs": [
    {
     "name": "stdout",
     "output_type": "stream",
     "text": [
      "u\n",
      "e\n",
      "a\n"
     ]
    }
   ],
   "source": [
    "for idx in string_list:\n",
    "    print(idx[1])"
   ]
  },
  {
   "cell_type": "markdown",
   "metadata": {},
   "source": [
    "#### 같은 위치에 있는 글자들을 반환\n",
    "> enumerate() 사용? <br>\n",
    "참고: [jihun's development blog: Python for문 index, value 동싱에 접근하기]() <br>\n",
    "-> No"
   ]
  },
  {
   "cell_type": "code",
   "execution_count": 71,
   "metadata": {},
   "outputs": [
    {
     "name": "stdout",
     "output_type": "stream",
     "text": [
      "0 sun\n",
      "1 bed\n",
      "2 car\n"
     ]
    }
   ],
   "source": [
    "for idx, word in enumerate(string_list):\n",
    "    print(idx, word)"
   ]
  },
  {
   "cell_type": "code",
   "execution_count": 72,
   "metadata": {
    "scrolled": true
   },
   "outputs": [
    {
     "name": "stdout",
     "output_type": "stream",
     "text": [
      "0 sun\n",
      "1 bed\n",
      "2 car\n"
     ]
    }
   ],
   "source": [
    "for idx in range(len(string_list)):\n",
    "    print(idx, string_list[idx])"
   ]
  },
  {
   "cell_type": "code",
   "execution_count": 92,
   "metadata": {},
   "outputs": [
    {
     "name": "stdout",
     "output_type": "stream",
     "text": [
      "0 s\n",
      "['s']\n",
      "1 u\n",
      "2 n\n",
      "0 b\n",
      "['s', 'b']\n",
      "1 e\n",
      "2 d\n",
      "0 c\n",
      "['s', 'b', 'c']\n",
      "1 a\n",
      "2 r\n",
      "['b', 'c', 's']\n"
     ]
    }
   ],
   "source": [
    "list_str = []\n",
    "for word in string_list:\n",
    "    for idx, str in enumerate(word):\n",
    "        print(idx, str)\n",
    "        n = 0\n",
    "        if idx == n:\n",
    "            list_str.append(str)\n",
    "            print(list_str)\n",
    "list_str.sort()\n",
    "print(list_str)"
   ]
  },
  {
   "cell_type": "markdown",
   "metadata": {},
   "source": [
    "#### sort\n",
    "참고: [Python List sort()](https://www.programiz.com/python-programming/methods/list/sort)\n",
    "<br>\n",
    "참고: [docs.python](https://docs.python.org/2/library/functions.html#sorted)\n",
    "1. sort()\n",
    "> parameter sort(cmp=None, key=None, reverse=False)\n",
    "2. sorted()"
   ]
  },
  {
   "cell_type": "markdown",
   "metadata": {},
   "source": [
    "#### sort()"
   ]
  },
  {
   "cell_type": "code",
   "execution_count": 84,
   "metadata": {},
   "outputs": [
    {
     "data": {
      "text/plain": [
       "<function list.sort>"
      ]
     },
     "execution_count": 84,
     "metadata": {},
     "output_type": "execute_result"
    },
    {
     "name": "stdout",
     "output_type": "stream",
     "text": [
      "['add', 'bin', 'zoo']\n",
      "['sun', 'bed', 'car']\n"
     ]
    }
   ],
   "source": [
    "string_list = [\"sun\", \"bed\", \"car\"]\n",
    "string_list.sort\n",
    "string_list2 = [\"add\", \"zoo\", \"bin\"]\n",
    "string_list2.sort()\n",
    "print(string_list2)\n",
    "\n",
    "print(string_list)"
   ]
  },
  {
   "cell_type": "markdown",
   "metadata": {},
   "source": [
    "`string_list` 에 들어있는 단어들 자체의 정렬을 바꾼다.  "
   ]
  },
  {
   "cell_type": "code",
   "execution_count": 75,
   "metadata": {},
   "outputs": [
    {
     "name": "stdout",
     "output_type": "stream",
     "text": [
      "[1, 2, 3, 4, 5]\n"
     ]
    }
   ],
   "source": [
    "a = [5, 4, 3, 2, 1]\n",
    "a.sort()\n",
    "print(a)"
   ]
  },
  {
   "cell_type": "markdown",
   "metadata": {},
   "source": [
    "#### sorted()"
   ]
  },
  {
   "cell_type": "code",
   "execution_count": 86,
   "metadata": {},
   "outputs": [
    {
     "data": {
      "text/plain": [
       "['bed', 'car', 'sun']"
      ]
     },
     "execution_count": 86,
     "metadata": {},
     "output_type": "execute_result"
    },
    {
     "data": {
      "text/plain": [
       "['sun', 'car', 'bed']"
      ]
     },
     "execution_count": 86,
     "metadata": {},
     "output_type": "execute_result"
    },
    {
     "data": {
      "text/plain": [
       "['bed', 'car', 'sun']"
      ]
     },
     "execution_count": 86,
     "metadata": {},
     "output_type": "execute_result"
    }
   ],
   "source": [
    "sorted(string_list)\n",
    "sorted(string_list, reverse=True)\n",
    "sorted(string_list, reverse=False)"
   ]
  },
  {
   "cell_type": "code",
   "execution_count": 99,
   "metadata": {
    "collapsed": true
   },
   "outputs": [],
   "source": [
    "def strange_sort(strings, n):\n",
    "    return sorted(strings)"
   ]
  },
  {
   "cell_type": "code",
   "execution_count": 100,
   "metadata": {},
   "outputs": [
    {
     "name": "stdout",
     "output_type": "stream",
     "text": [
      "['bed', 'car', 'sun']\n"
     ]
    }
   ],
   "source": [
    "print( strange_sort([\"sun\", \"bed\", \"car\"], 1) )"
   ]
  },
  {
   "cell_type": "code",
   "execution_count": 110,
   "metadata": {},
   "outputs": [
    {
     "data": {
      "text/plain": [
       "['car', 'bed', 'sun']"
      ]
     },
     "execution_count": 110,
     "metadata": {},
     "output_type": "execute_result"
    }
   ],
   "source": [
    "strings = [\"sun\", \"bed\", \"car\"]\n",
    "sorted(strings, key=lambda element:element[1])\n",
    "    "
   ]
  },
  {
   "cell_type": "markdown",
   "metadata": {},
   "source": [
    "# (문제9) 최대공약수와 최소공배수\n",
    "두 수를 입력받아 두 수의 최대공약수와 최소공배수를 반환해주는 gcdlcm 함수를 완성해 보세요. 배열의 맨 앞에 최대공약수, 그 다음 최소공배수를 넣어 반환하면 됩니다. 예를 들어 gcdlcm(3,12) 가 입력되면, [3, 12]를 반환해주면 됩니다.\n",
    "[최대공약수와 최소공배수](https://programmers.co.kr/learn/challenge_codes/11) <br>\n",
    "참고: [셩님](http://debuglog.tistory.com/73) <br>\n",
    "참고: [myjorney](http://myjorney.tistory.com/65)<br>\n",
    "참고: [python 알고리즘, lambda함수](http://blog.naver.com/PostView.nhn?blogId=fldragonn&logNo=220800294793&parentCategoryNo=&categoryNo=37&viewDate=&isShowPopularPosts=false&from=postView) <br>\n",
    "참고<span style=\"color:red\">★</span>: [Think Python 7. 반복](http://www.flowdas.com/thinkpython/07-iteration/)\n",
    "\n",
    "유클리드 호제법(- 互除法, Euclidean algorithm)은 2개의 자연수 또는 정식(整式)의 최대공약수를 구하는 알고리즘의 하나이다. 호제법이란 말은 두 수가 서로(互) 상대방 수를 나누어(除)서 결국 원하는 수를 얻는 알고리즘을 나타낸다. 2개의 자연수(또는 정식) a, b에 대해서 a를 b로 나눈 나머지를 r이라 하면(단, a>b), a와 b의 최대공약수는 b와 r의 최대공약수와 같다. 이 성질에 따라, b를 r로 나눈 나머지 r'를 구하고, 다시 r을 r'로 나눈 나머지를 구하는 과정을 반복하여 나머지가 0이 되었을 때 나누는 수가 a와 b의 최대공약수이다. "
   ]
  },
  {
   "cell_type": "code",
   "execution_count": 132,
   "metadata": {
    "scrolled": true
   },
   "outputs": [
    {
     "name": "stdout",
     "output_type": "stream",
     "text": [
      "48\n",
      "24\n",
      "0\n"
     ]
    }
   ],
   "source": [
    "a = [192, 72]\n",
    "print(192%72)\n",
    "print(72%48)\n",
    "print(48%24)\n",
    "#24가 최대공약수"
   ]
  },
  {
   "cell_type": "markdown",
   "metadata": {},
   "source": [
    "#### 1. 최대공약수 구하기"
   ]
  },
  {
   "cell_type": "markdown",
   "metadata": {},
   "source": [
    "1. 리스트안에 숫자를 비교\n",
    "2. 큰숫자/작은숫자\n",
    "3. 작은숫자/나머지 가 0이 될 때까지\n",
    "> 작은숫자랑 나머지.. 를 반복하려면? \n",
    "> 일단 max(a), min(a)을 사용해서...\n",
    "4. 나누었을 때 몫이 0이 되는 숫자들과 안되는 숫자 구분"
   ]
  },
  {
   "cell_type": "code",
   "execution_count": 171,
   "metadata": {},
   "outputs": [
    {
     "name": "stdout",
     "output_type": "stream",
     "text": [
      "[48, 26]\n"
     ]
    }
   ],
   "source": [
    "b = [122, 48]\n",
    "if max(b)%min(b) != 0:\n",
    "    b = [min(b), max(b)%min(b)]\n",
    "    print(b) "
   ]
  },
  {
   "cell_type": "code",
   "execution_count": 174,
   "metadata": {},
   "outputs": [
    {
     "name": "stdout",
     "output_type": "stream",
     "text": [
      "1\n"
     ]
    }
   ],
   "source": [
    "# 경우 1\n",
    "# c = [122, 48]\n",
    "# 경우2\n",
    "# c = [12, 18]\n",
    "# 경우3\n",
    "c = [1, 48]\n",
    "\n",
    "while max(c)%min(c) != 0:\n",
    "    c = [min(c), max(c)%min(c)]\n",
    "    print(c)\n",
    "# 몫이 0이 되기 전까지 반복\n",
    "\n",
    "# 최대공약수.. 는?\n",
    "if max(c)%min(c) == 0:\n",
    "    print(min(c))\n",
    "else:\n",
    "    print(max(c)*min(c))"
   ]
  },
  {
   "cell_type": "markdown",
   "metadata": {},
   "source": [
    "#### <p style=\"color:gray\">한번 이것저것 해보기</p>\n",
    "작동안함, 0이 아니므로 false! <br>\n",
    "while, if가 작동하지 않는다"
   ]
  },
  {
   "cell_type": "code",
   "execution_count": 168,
   "metadata": {},
   "outputs": [
    {
     "name": "stdout",
     "output_type": "stream",
     "text": [
      "[122, 48]\n",
      "[122, 48]\n"
     ]
    }
   ],
   "source": [
    "d = [122, 48]\n",
    "if max(d)%min(d) == 0:\n",
    "    d = [min(d), max(d)%min(d)]\n",
    "    print(d)\n",
    "print(d)\n",
    "    \n",
    "e = [122, 48]\n",
    "while max(e)%min(e) == 0:\n",
    "    e = [min(e), max(e)%min(e)]\n",
    "    print(e)\n",
    "print(e)"
   ]
  },
  {
   "cell_type": "markdown",
   "metadata": {},
   "source": [
    "#### 2. 최소공배수 구하기\n",
    "1. 각 숫자를 최대공약수로 나눈 몫과 최대공약수 곱하기\n",
    "2. 최대공약수 구하기\n",
    "3. 최대공약수로 나눈 몫을 구하기\n",
    "4. 최대공약수 \\* 몫1 \\* 몫2"
   ]
  },
  {
   "cell_type": "code",
   "execution_count": 181,
   "metadata": {
    "scrolled": false
   },
   "outputs": [
    {
     "name": "stdout",
     "output_type": "stream",
     "text": [
      "2\n",
      "2928\n"
     ]
    }
   ],
   "source": [
    "# 경우 1\n",
    "f = [122, 48]\n",
    "g = [122, 48]\n",
    "# 경우2\n",
    "# f = [12, 18]\n",
    "# 경우3\n",
    "# f = [1, 48]\n",
    "\n",
    "while max(f)%min(f) != 0:\n",
    "    f = [min(f), max(f)%min(f)]\n",
    "#     print(f)\n",
    "# 몫이 0이 되기 전까지 반복\n",
    "\n",
    "# 최대공약수.. 는?\n",
    "gcd = \"\"\n",
    "if max(f)%min(f) == 0:\n",
    "#     print(min(f))\n",
    "    gcd = int(min(f))\n",
    "else:\n",
    "    print(max(f)*min(f))\n",
    "    gcd = int(max(f)*min(f))\n",
    "print(gcd)\n",
    "\n",
    "# 최소공배수\n",
    "lcm = int(max(g)/gcd) * (min(g)/gcd) * gcd \n",
    "print(int(lcm))\n"
   ]
  },
  {
   "cell_type": "code",
   "execution_count": 190,
   "metadata": {},
   "outputs": [],
   "source": [
    "def gcdlcm(a, b):\n",
    "    answer = []\n",
    "    box = [a, b]\n",
    "    minmax = [a, b]\n",
    "    while max(minmax)%min(minmax) != 0:\n",
    "        minmax = [min(minmax), max(minmax)%min(minmax)]\n",
    "        \n",
    "#최대공약수        \n",
    "    gcd = \"\"\n",
    "    if max(minmax)%min(minmax) == 0:\n",
    "        gcd = int(min(minmax))\n",
    "    else:\n",
    "        gcd = int(max(minmax)* min(minmax))\n",
    "    answer.append(gcd)\n",
    "#최소공배수\n",
    "    lcm = int((max(box)/gcd) * (min(box)/gcd) * gcd)\n",
    "    answer.append(lcm)\n",
    "    return answer"
   ]
  },
  {
   "cell_type": "code",
   "execution_count": 191,
   "metadata": {},
   "outputs": [
    {
     "name": "stdout",
     "output_type": "stream",
     "text": [
      "[3, 12]\n"
     ]
    }
   ],
   "source": [
    "print(gcdlcm(3, 12))"
   ]
  },
  {
   "cell_type": "code",
   "execution_count": 194,
   "metadata": {},
   "outputs": [
    {
     "name": "stdout",
     "output_type": "stream",
     "text": [
      "[3, 12]\n"
     ]
    }
   ],
   "source": [
    "def gcdlcm(a, b):\n",
    "    answer = []\n",
    "    num_list = [a, b]\n",
    "    change_nums = [a, b]\n",
    "    \n",
    "    # 계속 나누기\n",
    "    while max(change_nums)%min(change_nums) != 0:\n",
    "        change_list = [min(chage_nums), max(change_nums)%min(change_nums)]\n",
    "        \n",
    "    # 최대공약수\n",
    "    gcd = \"\"\n",
    "    if max(change_nums)%min(change_nums) == 0:\n",
    "        gcd = int(min(change_nums))\n",
    "    else:\n",
    "        gcd = int(max(change_nums)*min(change_nums))\n",
    "    answer.append(gcd)\n",
    "    # 최소공배수\n",
    "    lcm = int((max(num_list)/gcd) * (min(num_list)/gcd) * gcd)\n",
    "    answer.append(lcm)\n",
    "    return answer\n",
    "\n",
    "# 아래는 테스트로 출력해 보기 위한 코드입니다.\n",
    "print(gcdlcm(3,12))"
   ]
  },
  {
   "cell_type": "markdown",
   "metadata": {},
   "source": [
    "### 다른 방법"
   ]
  },
  {
   "cell_type": "markdown",
   "metadata": {},
   "source": [
    "### Euclidean algorithm"
   ]
  },
  {
   "cell_type": "code",
   "execution_count": 195,
   "metadata": {},
   "outputs": [
    {
     "name": "stdout",
     "output_type": "stream",
     "text": [
      "[3, 12]\n"
     ]
    }
   ],
   "source": [
    "def gclcm2(a, b):\n",
    "    c, d = max(a, b), min(a, b)\n",
    "    t = 1\n",
    "    while t > 0:\n",
    "        t = c % d\n",
    "        c, d = d, t\n",
    "    answer = [c, int(a*b/c)]\n",
    "    return answer\n",
    "print(gcdlcm(3,12))"
   ]
  },
  {
   "cell_type": "markdown",
   "metadata": {},
   "source": [
    "#### 리스트는 써야할 때만 사용하기\n",
    "> max(a, b), min(a, b) <br>\n",
    "> c, d = d, t"
   ]
  },
  {
   "cell_type": "markdown",
   "metadata": {},
   "source": [
    "### a, b 큰 수 가정하기"
   ]
  },
  {
   "cell_type": "code",
   "execution_count": 197,
   "metadata": {},
   "outputs": [
    {
     "name": "stdout",
     "output_type": "stream",
     "text": [
      "[3, 12]\n",
      "[1, 48]\n",
      "[2, 300]\n"
     ]
    }
   ],
   "source": [
    "def gcdlcm(a, b):\n",
    "    if(b>a): # a가 항상 b보다 큰 상황을 가정\n",
    "        (a, b) = (b, a) # b가 더 크다면 a와 b를 먼저 바꾸고 시작\n",
    "    (gcd, lcm) = (1, 1)\n",
    "    i = 2\n",
    "    while(i <= b):\n",
    "        if((a % i == 0)) and (b % i == 0): # 두 수로 모두 나누어 떨어지면\n",
    "            gcd = gcd * i # 약수를 곱해준다. \n",
    "            lcm = lcm * i\n",
    "            a = a // i\n",
    "            b = b // i\n",
    "            i = 2 # 일단 나눠졌으면 다시 최초로 돌아가 바꾼다.\n",
    "        else:\n",
    "            i = i + 1\n",
    "    lcm *= a * b\n",
    "    answer = [gcd, lcm]\n",
    "    return answer\n",
    "print(gcdlcm(3,12))\n",
    "print(gcdlcm(1, 48))\n",
    "print(gcdlcm(12, 50))"
   ]
  },
  {
   "cell_type": "code",
   "execution_count": 198,
   "metadata": {},
   "outputs": [
    {
     "name": "stdout",
     "output_type": "stream",
     "text": [
      "[3, 12]\n",
      "[1, 48]\n",
      "[2, 300]\n"
     ]
    }
   ],
   "source": [
    "def gcdlcm(a, b):\n",
    "    if a > b :\n",
    "        a, b = b, a\n",
    "    cd = [i for i in range(1, a+1) if a%i == 0 and b%i ==0]\n",
    "    lcm = int(a * b / cd[-1])\n",
    "    answer = []\n",
    "    \n",
    "    return [cd[-1], lcm]\n",
    "print(gcdlcm(3,12))\n",
    "print(gcdlcm(1, 48))\n",
    "print(gcdlcm(12, 50))"
   ]
  },
  {
   "cell_type": "markdown",
   "metadata": {},
   "source": [
    "# (문제10) 문자열 내 p와 y의;\n",
    "numPY함수는 대문자와 소문자가 섞여있는 문자열 s를 매개변수로 입력받습니다.\n",
    "s에 'p'의 개수와 'y'의 개수를 비교해 같으면 True, 다르면 False를 리턴하도록 함수를 완성하세요. 'p', 'y' 모두 하나도 없는 경우는 항상 True를 리턴합니다.\n",
    "예를들어 s가 pPoooyY면 True를 리턴하고 Pyy라면 False를 리턴합니다. <br>\n",
    "[문자열 내 p와 y의;](https://programmers.co.kr/learn/challenge_codes/97)"
   ]
  },
  {
   "cell_type": "markdown",
   "metadata": {},
   "source": [
    "### in operator\n",
    "### find()\n",
    "### count()\n",
    "참고: [tutorialspoint Python List count() Method](https://www.tutorialspoint.com/python/list_count.htm)"
   ]
  },
  {
   "cell_type": "code",
   "execution_count": 200,
   "metadata": {},
   "outputs": [
    {
     "data": {
      "text/plain": [
       "'ppoooyy'"
      ]
     },
     "execution_count": 200,
     "metadata": {},
     "output_type": "execute_result"
    },
    {
     "name": "stdout",
     "output_type": "stream",
     "text": [
      "pPoooyY\n"
     ]
    }
   ],
   "source": [
    "a = \"pPoooyY\"\n",
    "b = \"Pyy\"\n",
    "a.lower()\n",
    "print(a)\n",
    "a"
   ]
  },
  {
   "cell_type": "code",
   "execution_count": 206,
   "metadata": {},
   "outputs": [
    {
     "data": {
      "text/plain": [
       "1"
      ]
     },
     "execution_count": 206,
     "metadata": {},
     "output_type": "execute_result"
    },
    {
     "data": {
      "text/plain": [
       "True"
      ]
     },
     "execution_count": 206,
     "metadata": {},
     "output_type": "execute_result"
    }
   ],
   "source": [
    "a.find(\"P\")\n",
    "\"p\" in a"
   ]
  },
  {
   "cell_type": "code",
   "execution_count": 214,
   "metadata": {},
   "outputs": [
    {
     "data": {
      "text/plain": [
       "2"
      ]
     },
     "execution_count": 214,
     "metadata": {},
     "output_type": "execute_result"
    }
   ],
   "source": [
    "c = \"pPoooyY\"\n",
    "c = c.lower()\n",
    "c.count('p')"
   ]
  },
  {
   "cell_type": "code",
   "execution_count": 220,
   "metadata": {},
   "outputs": [],
   "source": [
    "def numPY(s):\n",
    "    result = False\n",
    "    s = s.lower()\n",
    "    if s.count('p') == s.count('y'):\n",
    "        result = True\n",
    "    elif s.count('p') != s.count('y'):\n",
    "        result = False    \n",
    "    return result"
   ]
  },
  {
   "cell_type": "code",
   "execution_count": 221,
   "metadata": {},
   "outputs": [
    {
     "name": "stdout",
     "output_type": "stream",
     "text": [
      "True\n",
      "False\n"
     ]
    }
   ],
   "source": [
    "print( numPY(\"pPoooyY\") )\n",
    "print( numPY(\"Pyy\") )"
   ]
  },
  {
   "cell_type": "markdown",
   "metadata": {},
   "source": [
    "### 다른 사람들 풀이로 공부하기"
   ]
  },
  {
   "cell_type": "code",
   "execution_count": 223,
   "metadata": {},
   "outputs": [
    {
     "name": "stdout",
     "output_type": "stream",
     "text": [
      "True\n",
      "False\n"
     ]
    }
   ],
   "source": [
    "def numPY(s):\n",
    "    return s.lower().count('p') == s.lower().count('y')\n",
    "print( numPY(\"pPoooyY\") )\n",
    "print( numPY(\"Pyy\") )"
   ]
  },
  {
   "cell_type": "code",
   "execution_count": 224,
   "metadata": {},
   "outputs": [
    {
     "name": "stdout",
     "output_type": "stream",
     "text": [
      "True\n",
      "False\n"
     ]
    }
   ],
   "source": [
    "from collections import Counter\n",
    "def numPY(s):\n",
    "    c = Counter(s.lower())\n",
    "    return c['y'] == c['p']\n",
    "print( numPY(\"pPoooyY\") )\n",
    "print( numPY(\"Pyy\") )"
   ]
  },
  {
   "cell_type": "code",
   "execution_count": 226,
   "metadata": {},
   "outputs": [
    {
     "name": "stdout",
     "output_type": "stream",
     "text": [
      "True\n",
      "False\n"
     ]
    }
   ],
   "source": [
    "def numPY(s):\n",
    "    s = s.lower()\n",
    "    if (s.count('p') == s.count('y')):\n",
    "        return True\n",
    "    else:\n",
    "        return False\n",
    "print( numPY(\"pPoooyY\") )\n",
    "print( numPY(\"Pyy\") )"
   ]
  },
  {
   "cell_type": "markdown",
   "metadata": {},
   "source": [
    "# (문제11) 평균구하기\n",
    "함수를 완성해서 매개변수 array의 평균값을 return하도록 만들어 보세요.\n",
    "어떠한 크기의 array가 와도 평균값을 구할 수 있어야 합니다.\n",
    "<br>\n",
    "[평균구하기](https://programmers.co.kr/learn/challenge_codes/128)\n",
    "> array의 평균\n",
    "\n",
    "참고: [stackoverflow](https://stackoverflow.com/questions/9039961/finding-the-average-of-a-list)\n",
    "\n",
    "```\n",
    "sum(l) / float(len(l)) is the right answer, but just for completeness you can compute an average with a single reduce:\n",
    "\n",
    ">>> reduce(lambda x, y: x + y / float(len(l)), l, 0)\n",
    "20.111111111111114\n",
    "Note that this can result in a slight rounding error:\n",
    "\n",
    ">>> sum(l) / float(len(l))\n",
    "20.111111111111111\n",
    "\n",
    "```"
   ]
  },
  {
   "cell_type": "code",
   "execution_count": 232,
   "metadata": {},
   "outputs": [
    {
     "name": "stdout",
     "output_type": "stream",
     "text": [
      "4.0\n"
     ]
    }
   ],
   "source": [
    "import numpy as np\n",
    "print(np.mean(list))"
   ]
  },
  {
   "cell_type": "code",
   "execution_count": 230,
   "metadata": {},
   "outputs": [
    {
     "data": {
      "text/plain": [
       "4.0"
      ]
     },
     "execution_count": 230,
     "metadata": {},
     "output_type": "execute_result"
    }
   ],
   "source": [
    "list = [5, 3, 4]\n",
    "sum(list) / float(len(list))"
   ]
  },
  {
   "cell_type": "code",
   "execution_count": 234,
   "metadata": {},
   "outputs": [],
   "source": [
    "def average(array):\n",
    "    return sum(array)/len(array)"
   ]
  },
  {
   "cell_type": "code",
   "execution_count": 236,
   "metadata": {},
   "outputs": [
    {
     "name": "stdout",
     "output_type": "stream",
     "text": [
      "평균값 : 4.0\n"
     ]
    }
   ],
   "source": [
    "list = [5,3,4] \n",
    "print(\"평균값 : {}\".format(average(list)));"
   ]
  },
  {
   "cell_type": "markdown",
   "metadata": {},
   "source": [
    "### 다른 사람들의 풀이 방법"
   ]
  },
  {
   "cell_type": "code",
   "execution_count": 237,
   "metadata": {
    "collapsed": true
   },
   "outputs": [],
   "source": [
    "def average2(list):\n",
    "    if len(list) == 0:\n",
    "        return 0\n",
    "    return sum(list) / len(list)"
   ]
  },
  {
   "cell_type": "code",
   "execution_count": 238,
   "metadata": {},
   "outputs": [
    {
     "name": "stdout",
     "output_type": "stream",
     "text": [
      "평균값 : 4.0\n"
     ]
    }
   ],
   "source": [
    "list = [5,3,4] \n",
    "print(\"평균값 : {}\".format(average(list)));"
   ]
  },
  {
   "cell_type": "code",
   "execution_count": 239,
   "metadata": {},
   "outputs": [
    {
     "name": "stdout",
     "output_type": "stream",
     "text": [
      "평균값 : 4.0\n"
     ]
    }
   ],
   "source": [
    "def averge(list):\n",
    "    from functools import reduce\n",
    "    return reduce(lambda x, y : x+y, list)/len(list)\n",
    "\n",
    "list = [5,3,4] \n",
    "print(\"평균값 : {}\".format(average(list)));"
   ]
  },
  {
   "cell_type": "markdown",
   "metadata": {},
   "source": [
    "# 12. 제일 작은 수 제거하기\n",
    "rm_small함수는 list타입 변수 mylist을 매개변수로 입력받습니다.\n",
    "mylist 에서 가장 작은 수를 제거한 리스트를 리턴하고, mylist의 원소가 1개 이하인 경우는 []를 리턴하는 함수를 완성하세요.\n",
    "예를들어 mylist가 [4,3,2,1]인 경우는 [4,3,2]를 리턴 하고, [10, 8, 22]면 [10, 22]를 리턴 합니다.\n",
    "<br>\n",
    "[제일 작은 수 제거하기](https://programmers.co.kr/learn/challenge_codes/121)"
   ]
  },
  {
   "cell_type": "code",
   "execution_count": 277,
   "metadata": {},
   "outputs": [
    {
     "data": {
      "text/plain": [
       "1"
      ]
     },
     "execution_count": 277,
     "metadata": {},
     "output_type": "execute_result"
    },
    {
     "data": {
      "text/plain": [
       "[4, 3, 2]"
      ]
     },
     "execution_count": 277,
     "metadata": {},
     "output_type": "execute_result"
    }
   ],
   "source": [
    "my_list = [4, 3, 2, 1]\n",
    "min(my_list)\n",
    "my_list.remove(min(my_list))\n",
    "my_list"
   ]
  },
  {
   "cell_type": "markdown",
   "metadata": {},
   "source": [
    "#### index error"
   ]
  },
  {
   "cell_type": "code",
   "execution_count": 16,
   "metadata": {},
   "outputs": [
    {
     "name": "stdout",
     "output_type": "stream",
     "text": [
      "결과 [3, 2, 1, 1] \n"
     ]
    }
   ],
   "source": [
    "def rm_small(mylist):\n",
    "    mylist.remove(min(mylist))\n",
    "    return mylist\n",
    "\n",
    "# my_list = [4, 3, 2, 1]\n",
    "my_list = [3, 2, 1, 1, 1]\n",
    "print(\"결과 {} \".format(rm_small(my_list)))"
   ]
  },
  {
   "cell_type": "markdown",
   "metadata": {},
   "source": [
    "1이 여러개인 경우.. error"
   ]
  },
  {
   "cell_type": "code",
   "execution_count": 278,
   "metadata": {},
   "outputs": [
    {
     "data": {
      "text/plain": [
       "filter"
      ]
     },
     "execution_count": 278,
     "metadata": {},
     "output_type": "execute_result"
    }
   ],
   "source": [
    "filter"
   ]
  },
  {
   "cell_type": "code",
   "execution_count": 4,
   "metadata": {},
   "outputs": [
    {
     "data": {
      "text/plain": [
       "[4, 3, 2]"
      ]
     },
     "execution_count": 4,
     "metadata": {},
     "output_type": "execute_result"
    }
   ],
   "source": [
    "my_list = [4, 3, 2, 1]\n",
    "my_list = [3, 2, 1, 1, 1]\n",
    "list(filter(lambda x: x is not min(my_list), my_list))"
   ]
  },
  {
   "cell_type": "markdown",
   "metadata": {},
   "source": [
    "### 다른 사람들의 풀이보고 배우기"
   ]
  },
  {
   "cell_type": "code",
   "execution_count": 15,
   "metadata": {},
   "outputs": [
    {
     "name": "stdout",
     "output_type": "stream",
     "text": [
      "결과 [3, 2] \n"
     ]
    }
   ],
   "source": [
    "def rm_small3(mylist):\n",
    "    return list(filter(lambda x:x is not min(mylist), mylist))\n",
    "\n",
    "# my_list = [4,3,2,1]\n",
    "my_list = [3, 2, 1, 1, 1]\n",
    "print(\"결과 {} \".format(rm_small3(my_list)))"
   ]
  },
  {
   "cell_type": "code",
   "execution_count": 12,
   "metadata": {},
   "outputs": [
    {
     "name": "stdout",
     "output_type": "stream",
     "text": [
      "결과 [3, 2] \n"
     ]
    }
   ],
   "source": [
    "def rm_small2(mylist):\n",
    "    return [i for i in mylist if i > min(mylist)]\n",
    "# my_list = [4,3,2,1]\n",
    "my_list = [3, 2, 1, 1, 1]\n",
    "print(\"결과 {} \".format(rm_small2(my_list)))"
   ]
  },
  {
   "cell_type": "markdown",
   "metadata": {},
   "source": [
    "# (문제 13) 약수의 합\n",
    "어떤 수를 입력받아 그 수의 약수를 모두 더한 수 sumDivisor 함수를 완성해 보세요. 예를 들어 12가 입력된다면 12의 약수는 [1, 2, 3, 4, 6, 12]가 되고, 총 합은 28이 되므로 28을 반환해 주면 됩니다. \n",
    "<br>\n",
    "[약수의 합](https://programmers.co.kr/learn/challenge_codes/2)"
   ]
  },
  {
   "cell_type": "markdown",
   "metadata": {},
   "source": [
    "1. 약수들을 구한다\n",
    "> 1부터 % 일 때, 나머지가 0인 것들?\n",
    "\n",
    "2. sum()"
   ]
  },
  {
   "cell_type": "code",
   "execution_count": 28,
   "metadata": {},
   "outputs": [
    {
     "name": "stdout",
     "output_type": "stream",
     "text": [
      "1\n",
      "2\n",
      "3\n",
      "4\n",
      "6\n",
      "12\n"
     ]
    }
   ],
   "source": [
    "for i in range(12):\n",
    "#     print(i)\n",
    "    if 12%(i+1) == 0:\n",
    "        print(i+1)"
   ]
  },
  {
   "cell_type": "code",
   "execution_count": 35,
   "metadata": {},
   "outputs": [
    {
     "name": "stdout",
     "output_type": "stream",
     "text": [
      "28\n"
     ]
    }
   ],
   "source": [
    "def sumDivisor(num):\n",
    "    answer = 0\n",
    "    for i in range(num):\n",
    "        if num%(i+1) == 0:\n",
    "            answer += i+1\n",
    "    return answer    \n",
    "\n",
    "print(sumDivisor(12))"
   ]
  },
  {
   "cell_type": "markdown",
   "metadata": {},
   "source": [
    "### 다른 사람들의 풀이보고 공부하기"
   ]
  },
  {
   "cell_type": "code",
   "execution_count": 41,
   "metadata": {},
   "outputs": [
    {
     "name": "stdout",
     "output_type": "stream",
     "text": [
      "28\n"
     ]
    }
   ],
   "source": [
    "def sumDivisor2(num):\n",
    "    return num + sum([i for i in range(1, (num // 2) + 1) if num %  i == 0])\n",
    "print(sumDivisor2(12))"
   ]
  },
  {
   "cell_type": "code",
   "execution_count": 43,
   "metadata": {},
   "outputs": [
    {
     "name": "stdout",
     "output_type": "stream",
     "text": [
      "28\n"
     ]
    }
   ],
   "source": [
    "def sumDivisor3(num):\n",
    "    return sum([i for i in range(1, num+1) if num % i == 0])\n",
    "print(sumDivisor3(12))"
   ]
  },
  {
   "cell_type": "code",
   "execution_count": 46,
   "metadata": {},
   "outputs": [
    {
     "name": "stdout",
     "output_type": "stream",
     "text": [
      "28\n"
     ]
    }
   ],
   "source": [
    "def sumDivisor4(num):\n",
    "    return sum(filter(lambda x: num % x == 0, range(1, num + 1)))\n",
    "print(sumDivisor4(12))"
   ]
  },
  {
   "cell_type": "code",
   "execution_count": 48,
   "metadata": {},
   "outputs": [
    {
     "name": "stdout",
     "output_type": "stream",
     "text": [
      "28\n"
     ]
    }
   ],
   "source": [
    "def sumDivisor5(num):\n",
    "    answer = 1\n",
    "    for i in range(2, num//2+1):\n",
    "        if num%i == 0:\n",
    "            answer += i\n",
    "    return answer + num\n",
    "print(sumDivisor5(12))"
   ]
  },
  {
   "cell_type": "markdown",
   "metadata": {},
   "source": [
    "\n",
    "> 1은 약수들 중에 **공통** <br>\n",
    "> num 자기 자신은 약수들 중에 **공통** <br> \n",
    "> **공통적인 부분을 빼고** 다른 약수들을 구한 후 sum 하는 방법\n"
   ]
  },
  {
   "cell_type": "code",
   "execution_count": 53,
   "metadata": {},
   "outputs": [
    {
     "name": "stdout",
     "output_type": "stream",
     "text": [
      "7\n",
      "6\n",
      "i의 range: 2\n",
      "약수는?2\n",
      "i의 range: 3\n",
      "약수는?3\n",
      "i의 range: 4\n",
      "약수는?4\n",
      "i의 range: 5\n",
      "i의 range: 6\n",
      "약수는?6\n"
     ]
    }
   ],
   "source": [
    "print(12//2+1)\n",
    "print(12//2)\n",
    "answer = 1\n",
    "for i in range(2, 12//2+1):\n",
    "    print(\"i의 range: \" + str(i))\n",
    "    if 12%i == 0:\n",
    "        print(\"약수는?\"+ str(i))\n",
    "        answer += i"
   ]
  },
  {
   "cell_type": "markdown",
   "metadata": {},
   "source": [
    "위의 약수들과 더불어 1과 자기자신의 숫자라는 약수가 더 있다. "
   ]
  }
 ],
 "metadata": {
  "kernelspec": {
   "display_name": "Python 3",
   "language": "python",
   "name": "python3"
  }
 },
 "nbformat": 4,
 "nbformat_minor": 2
}
