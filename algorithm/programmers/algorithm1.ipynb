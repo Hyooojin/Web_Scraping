{
 "cells": [
  {
   "cell_type": "markdown",
   "metadata": {},
   "source": [
    "# (문제1) x만큼 간격이 있는 n개의 숫자"
   ]
  },
  {
   "cell_type": "code",
   "execution_count": 1,
   "metadata": {
    "collapsed": true
   },
   "outputs": [],
   "source": [
    "def number_generator(x, n):\n",
    "#     count = n-1\n",
    "    count = 1\n",
    "    b = []\n",
    "    while count <= n:\n",
    "        a = x * count\n",
    "        print(a)\n",
    "        count += 1 \n",
    "        b.append(a)\n",
    "    return b"
   ]
  },
  {
   "cell_type": "code",
   "execution_count": 2,
   "metadata": {
    "scrolled": true
   },
   "outputs": [
    {
     "name": "stdout",
     "output_type": "stream",
     "text": [
      "3\n",
      "6\n",
      "9\n",
      "12\n",
      "15\n"
     ]
    },
    {
     "data": {
      "text/plain": [
       "[3, 6, 9, 12, 15]"
      ]
     },
     "execution_count": 2,
     "metadata": {},
     "output_type": "execute_result"
    }
   ],
   "source": [
    "number_generator(3, 5)"
   ]
  },
  {
   "cell_type": "code",
   "execution_count": 3,
   "metadata": {
    "collapsed": true
   },
   "outputs": [],
   "source": [
    "def number_generator_for(x, n):\n",
    "    b = []\n",
    "    for x in range(x, x*n+ 1, x):\n",
    "        b.append(x)\n",
    "    return b"
   ]
  },
  {
   "cell_type": "code",
   "execution_count": 4,
   "metadata": {},
   "outputs": [
    {
     "data": {
      "text/plain": [
       "[2, 4, 6]"
      ]
     },
     "execution_count": 4,
     "metadata": {},
     "output_type": "execute_result"
    }
   ],
   "source": [
    "number_generator_for(2, 3)"
   ]
  },
  {
   "cell_type": "markdown",
   "metadata": {},
   "source": [
    "# (문제2) 행렬의 덧셈"
   ]
  },
  {
   "cell_type": "markdown",
   "metadata": {},
   "source": [
    "행렬의 덧셈은 행과 열의 크기가 같은 두 행렬의 같은 행, 같은 열의 값을 서로 더한 결과가 됩니다. 2개의 행렬을 입력받는 sumMatrix 함수를 완성하여 행렬 덧셈의 결과를 반환해 주세요.\n",
    "\n",
    "예를 들어 2x2 행렬인 A = ((1, 2), (2, 3)), B = ((3, 4), (5, 6)) 가 주어지면, 같은 2x2 행렬인 ((4, 6), (7, 9))를 반환하면 됩니다.(어떠한 행렬에도 대응하는 함수를 완성해주세요.)\n",
    "<br>\n",
    "[프로그래머스_행렬의 덧셈](https://programmers.co.kr/learn/challenge_codes/148)\n",
    "\n",
    "참고: [Python Program to Add Two Matrices](https://www.programiz.com/python-programming/examples/add-matrix)\n"
   ]
  },
  {
   "cell_type": "markdown",
   "metadata": {},
   "source": [
    "<p style=\"color:red\"> matrix의 sum은? </p>\n",
    "<p style=\"color:gray\"> matrix의 각각의 위치값을 반환하여 같은 위치의 있는 숫자들을 더한다. </p>\n",
    "1. 행렬이 어떻게 이루어져 있는지 확인하기\n",
    "2. 같은 위치의 값끼리 더하기 \n",
    "3. 어떤 행렬이 오던 가능하게 \n",
    "4. 다른 방법들.."
   ]
  },
  {
   "cell_type": "markdown",
   "metadata": {},
   "source": [
    "### 1. 행렬이 어떻게 이루어져있는지 확인하기 \n",
    "> 인덱스 **2번**으로 접근할 수 있다. "
   ]
  },
  {
   "cell_type": "code",
   "execution_count": 5,
   "metadata": {
    "scrolled": true
   },
   "outputs": [
    {
     "name": "stdout",
     "output_type": "stream",
     "text": [
      "[[1, 2], [2, 3]]\n",
      "[[3, 4], [5, 6]]\n"
     ]
    }
   ],
   "source": [
    "A = [[1, 2], [2, 3]]\n",
    "print(A)\n",
    "B = [[3, 4], [5, 6]]\n",
    "print(B)"
   ]
  },
  {
   "cell_type": "code",
   "execution_count": 6,
   "metadata": {
    "scrolled": true
   },
   "outputs": [
    {
     "data": {
      "text/plain": [
       "[1, 2]"
      ]
     },
     "execution_count": 6,
     "metadata": {},
     "output_type": "execute_result"
    }
   ],
   "source": [
    "A[0]"
   ]
  },
  {
   "cell_type": "code",
   "execution_count": 7,
   "metadata": {
    "scrolled": false
   },
   "outputs": [
    {
     "name": "stdout",
     "output_type": "stream",
     "text": [
      "1\n",
      "2\n",
      "2\n",
      "3\n"
     ]
    }
   ],
   "source": [
    "print(A[0][0])\n",
    "print(A[0][1])\n",
    "print(A[1][0])\n",
    "print(A[1][1])"
   ]
  },
  {
   "cell_type": "code",
   "execution_count": 8,
   "metadata": {},
   "outputs": [
    {
     "name": "stdout",
     "output_type": "stream",
     "text": [
      "0\n"
     ]
    }
   ],
   "source": [
    "print(A.index([1, 2]))"
   ]
  },
  {
   "cell_type": "code",
   "execution_count": 9,
   "metadata": {},
   "outputs": [
    {
     "name": "stdout",
     "output_type": "stream",
     "text": [
      "1\n"
     ]
    }
   ],
   "source": [
    "print(A.index([2, 3]))"
   ]
  },
  {
   "cell_type": "markdown",
   "metadata": {},
   "source": [
    "### 2. 같은 위치의 값끼리 더하기 \n",
    "> for문을 두번 사용하게 된다. <br>\n",
    "> 다시 말하면, 행렬에 접근하기 위해서는 <br> \n",
    "> => **A[i][j]** <br>\n",
    "> <u> 행의 인덱스, 줄의 인덱스 **조합**</u>으로 나타낼 수 있다. \n",
    "\n",
    "#### Matrix Addition using Nested Loop \n",
    "In this program we have used nested for loops to iterate through each row and each column. At each point we add the corresponding elements in the two matrices and store it in the result."
   ]
  },
  {
   "cell_type": "code",
   "execution_count": 10,
   "metadata": {
    "collapsed": true
   },
   "outputs": [],
   "source": [
    "X = [[12,7,3],\n",
    "    [4 ,5,6],\n",
    "    [7 ,8,9]]\n",
    "\n",
    "Y = [[5,8,1],\n",
    "    [6,7,3],\n",
    "    [4,5,9]]\n",
    "\n",
    "result = [[0,0,0],\n",
    "         [0,0,0],\n",
    "         [0,0,0]]"
   ]
  },
  {
   "cell_type": "code",
   "execution_count": 11,
   "metadata": {
    "scrolled": true
   },
   "outputs": [
    {
     "name": "stdout",
     "output_type": "stream",
     "text": [
      "[[17, 15, 4], [10, 12, 9], [11, 13, 18]]\n",
      "[17, 15, 4]\n",
      "[10, 12, 9]\n",
      "[11, 13, 18]\n"
     ]
    }
   ],
   "source": [
    "for i in range(len(X)):\n",
    "    for j in range(len(X[0])):\n",
    "        result[i][j] = X[i][j] + Y[i][j]\n",
    "\n",
    "print(result)\n",
    "\n",
    "for r in result:\n",
    "    print(r)"
   ]
  },
  {
   "cell_type": "markdown",
   "metadata": {},
   "source": [
    "> 이처럼 for문을 두번 사용해 i, j에 접근할 수 있도록 하고 \n",
    "그 상태에서 matrix를 더해준다."
   ]
  },
  {
   "cell_type": "markdown",
   "metadata": {},
   "source": [
    "#### for문을 사용해서 행렬 A, B 더하기 "
   ]
  },
  {
   "cell_type": "code",
   "execution_count": 12,
   "metadata": {
    "collapsed": true
   },
   "outputs": [],
   "source": [
    "rmatrix = [[0, 0], [0, 0]]"
   ]
  },
  {
   "cell_type": "code",
   "execution_count": 13,
   "metadata": {
    "scrolled": true
   },
   "outputs": [
    {
     "name": "stdout",
     "output_type": "stream",
     "text": [
      "A: [1, 2]\n",
      "A 행의 위치가 0일 때,\n",
      "해당 A행에 해당하는 j의 위치는? :0\n",
      "그 때의 값은? 1\n",
      "[[1, 2], [2, 3]]\n",
      "[[3, 4], [5, 6]]\n",
      "A 행의 위치가 0일 때,\n",
      "해당 A행에 해당하는 j의 위치는? :1\n",
      "그 때의 값은? 2\n",
      "[[1, 2], [2, 3]]\n",
      "[[3, 4], [5, 6]]\n",
      "A: [2, 3]\n",
      "A 행의 위치가 1일 때,\n",
      "해당 A행에 해당하는 j의 위치는? :0\n",
      "그 때의 값은? 2\n",
      "[[1, 2], [2, 3]]\n",
      "[[3, 4], [5, 6]]\n",
      "A 행의 위치가 1일 때,\n",
      "해당 A행에 해당하는 j의 위치는? :1\n",
      "그 때의 값은? 3\n",
      "[[1, 2], [2, 3]]\n",
      "[[3, 4], [5, 6]]\n",
      "===================\n",
      "답: [[4, 6], [7, 9]]\n"
     ]
    }
   ],
   "source": [
    "for i in range(len(A)):\n",
    "#     print(\"i: \" + str(i))\n",
    "    print(\"A: \" + str(A[i]))\n",
    "    for j in range(len(A[0])):\n",
    "        print(\"A 행의 위치가 \"+ str(i) + \"일 때,\")\n",
    "        print(\"해당 A행에 해당하는 j의 위치는? :\" + str(j))\n",
    "        print(\"그 때의 값은? \" + str(A[i][j]))\n",
    "        rmatrix[i][j] = A[i][j] + B[i][j]\n",
    "        print(A)\n",
    "        print(B)\n",
    "print(\"===================\")\n",
    "print(\"답: \" + str(rmatrix))"
   ]
  },
  {
   "cell_type": "markdown",
   "metadata": {},
   "source": [
    "#### 행렬 A, B 더하기를 함수로 만들기 "
   ]
  },
  {
   "cell_type": "code",
   "execution_count": 14,
   "metadata": {
    "collapsed": true
   },
   "outputs": [],
   "source": [
    "def sumMatrix(A, B):\n",
    "    answer = [[0, 0], [0, 0]]\n",
    "#     answer = []\n",
    "    for i in range(len(A)): # 행의 갯수만큼\n",
    "        for j in range(len(A[0])): # 열의 갯수 만큼\n",
    "            answer[i][j] = A[i][j] + B[i][j]        \n",
    "    return answer"
   ]
  },
  {
   "cell_type": "code",
   "execution_count": 15,
   "metadata": {},
   "outputs": [
    {
     "name": "stdout",
     "output_type": "stream",
     "text": [
      "[[4, 6], [7, 9]]\n"
     ]
    }
   ],
   "source": [
    "print(sumMatrix([[1, 2], [2, 3]], [[3, 4], [5, 6]]))"
   ]
  },
  {
   "cell_type": "markdown",
   "metadata": {},
   "source": [
    "### 3. 어떤 행렬이 오던 가능하게\n",
    "> answer = [[0,0], [0,0]] <br>\n",
    "> 이런식으로 정의내리면 다른 모양의 행렬은 올 수 없게 됨. <br>\n",
    "> 따라서, 다른 방법이 필요함\n",
    "\n",
    "#### Matrix Addition using Nested List Comprehension"
   ]
  },
  {
   "cell_type": "code",
   "execution_count": 16,
   "metadata": {},
   "outputs": [
    {
     "name": "stdout",
     "output_type": "stream",
     "text": [
      "[[17, 15, 4], [10, 12, 9], [11, 13, 18]]\n"
     ]
    }
   ],
   "source": [
    "X = [[12,7,3],\n",
    "    [4 ,5,6],\n",
    "    [7 ,8,9]]\n",
    "\n",
    "Y = [[5,8,1],\n",
    "    [6,7,3],\n",
    "    [4,5,9]]\n",
    "\n",
    "result = [\n",
    "    [\n",
    "        X[i][j] + Y[i][j]  for j in range(len(X[0]))\n",
    "    ] for i in range(len(X))\n",
    "]\n",
    "\n",
    "print(result)"
   ]
  },
  {
   "cell_type": "code",
   "execution_count": 17,
   "metadata": {
    "collapsed": true
   },
   "outputs": [],
   "source": [
    "# 17ms\n",
    "anwser = [[A[i][j] + B[i][j] for j in range(len(A[0]))] for i in range(len(A))]"
   ]
  },
  {
   "cell_type": "code",
   "execution_count": 18,
   "metadata": {},
   "outputs": [
    {
     "name": "stdout",
     "output_type": "stream",
     "text": [
      "[[4, 6], [7, 9]]\n"
     ]
    }
   ],
   "source": [
    "print(anwser)"
   ]
  },
  {
   "cell_type": "markdown",
   "metadata": {},
   "source": [
    "### 다른 방법들로 연습해보기\n",
    "A = [[1, 2],<br> \n",
    "&nbsp;&nbsp;&nbsp;&nbsp;&nbsp;&nbsp;&nbsp;[2, 3]]\n",
    "<br>\n",
    "B = [[3, 4], <br>\n",
    "&nbsp;&nbsp;&nbsp;&nbsp;&nbsp;&nbsp;&nbsp;[5, 6]] "
   ]
  },
  {
   "cell_type": "markdown",
   "metadata": {},
   "source": [
    "### zip()함수 사용한 풀이?\n",
    "<p style=\"color:gray\">zip()은 동일한 개수로 이루어진 자료형을 묶어 주는 역할을 하는 함수이다.</p>\n",
    "참고 사이트: [위키독스..zip()](https://wikidocs.net/32) <br>\n",
    "zip()연습은 이 뒤에.. !"
   ]
  },
  {
   "cell_type": "code",
   "execution_count": 19,
   "metadata": {},
   "outputs": [
    {
     "name": "stdout",
     "output_type": "stream",
     "text": [
      "[[4, 6], [7, 9]]\n"
     ]
    }
   ],
   "source": [
    "answer2 = [[c + d for c, d in zip(a, b)] for a, b in zip(A, B)]\n",
    "print(answer2)"
   ]
  },
  {
   "cell_type": "code",
   "execution_count": 20,
   "metadata": {},
   "outputs": [
    {
     "name": "stdout",
     "output_type": "stream",
     "text": [
      "큰 zip 묶기 한번에\n",
      "a: [1, 2]\n",
      "b: [3, 4]\n",
      "작은 zip 묶기 두번\n",
      "c: 1\n",
      "d: 3\n",
      "c+d: 4\n",
      "작은 zip 묶기 두번\n",
      "c: 2\n",
      "d: 4\n",
      "c+d: 6\n",
      "큰 zip 묶기 한번에\n",
      "a: [2, 3]\n",
      "b: [5, 6]\n",
      "작은 zip 묶기 두번\n",
      "c: 2\n",
      "d: 5\n",
      "c+d: 7\n",
      "작은 zip 묶기 두번\n",
      "c: 3\n",
      "d: 6\n",
      "c+d: 9\n"
     ]
    }
   ],
   "source": [
    "for a, b in zip(A, B): \n",
    "    print(\"큰 zip 묶기 한번에\")\n",
    "    print(\"a: \" + str(a))\n",
    "    print(\"b: \" + str(b))\n",
    "    for c, d in zip(a, b):\n",
    "        print(\"작은 zip 묶기 두번\")\n",
    "        print(\"c: \" + str(c))\n",
    "        print(\"d: \" + str(d))\n",
    "        print(\"c+d: \"+ str(c + d))"
   ]
  },
  {
   "cell_type": "code",
   "execution_count": 21,
   "metadata": {},
   "outputs": [
    {
     "name": "stdout",
     "output_type": "stream",
     "text": [
      "[[4, 6], [7, 9]]\n"
     ]
    }
   ],
   "source": [
    "# 16ms\n",
    "def sumMatrix(A, B):\n",
    "    answer = [[c+d for c, d in zip(a, b)] for a, b in zip(A, B)]\n",
    "    return answer\n",
    "print(sumMatrix([[1, 2], [2, 3]], [[3, 4],[5, 6]]))"
   ]
  },
  {
   "cell_type": "markdown",
   "metadata": {},
   "source": [
    "### 하나의 행렬에 하나의 행렬 더한 풀이! "
   ]
  },
  {
   "cell_type": "code",
   "execution_count": 22,
   "metadata": {},
   "outputs": [
    {
     "name": "stdout",
     "output_type": "stream",
     "text": [
      "[[4, 6], [7, 9]]\n"
     ]
    }
   ],
   "source": [
    "# 21ms\n",
    "def sumMatrix(A, B):\n",
    "    for i in range(len(A)):\n",
    "        for j in range(len(A[0])):\n",
    "            A[i][j] += B[i][j]\n",
    "    return A\n",
    "print(sumMatrix([[1, 2], [2, 3]], [[3, 4],[5, 6]]))"
   ]
  },
  {
   "cell_type": "markdown",
   "metadata": {},
   "source": [
    "### numpy사용한 풀이\n",
    "> numpy를 이용해서 더한 후, .tolist()로 리스트로 변환"
   ]
  },
  {
   "cell_type": "code",
   "execution_count": 23,
   "metadata": {},
   "outputs": [
    {
     "name": "stdout",
     "output_type": "stream",
     "text": [
      "[[4 6]\n",
      " [7 9]]\n",
      "[[4, 6], [7, 9]]\n"
     ]
    }
   ],
   "source": [
    "# 341ms\n",
    "import numpy as np\n",
    "def sumMatrix(A, B):\n",
    "    A = np.array(A)\n",
    "    B = np.array(B)\n",
    "    answer = A+B\n",
    "    print(answer)\n",
    "    return answer.tolist()\n",
    "#     return answer\n",
    "print(sumMatrix([[1, 2], [2, 3]], [[3, 4],[5, 6]]))"
   ]
  },
  {
   "cell_type": "markdown",
   "metadata": {},
   "source": [
    "### nested loop로 하려면? \n",
    "> list 안에 list"
   ]
  },
  {
   "cell_type": "code",
   "execution_count": 24,
   "metadata": {},
   "outputs": [
    {
     "name": "stdout",
     "output_type": "stream",
     "text": [
      "[[4, 6, 9], [7, 9, 2], [7, 9, 1]]\n"
     ]
    }
   ],
   "source": [
    "def sumMatrix(A, B):\n",
    "    answer = []\n",
    "    for i in range(len(A)):\n",
    "        listinlist = []\n",
    "        for j in range(len(A[0])):\n",
    "            listinlist.append(A[i][j]+B[i][j])\n",
    "        answer.append(listinlist)\n",
    "    return answer\n",
    "print(sumMatrix([[1,2,7], [2,3,1], [2,3,1]], [[3,4,2], [5,6,1], [5,6,0]]))        "
   ]
  },
  {
   "cell_type": "markdown",
   "metadata": {},
   "source": [
    "# (문제3) 같은 숫자는 싫어"
   ]
  },
  {
   "cell_type": "code",
   "execution_count": 25,
   "metadata": {
    "collapsed": true
   },
   "outputs": [],
   "source": [
    "def no_countinuous(s):\n",
    "    sep = set(s)\n",
    "    return sep"
   ]
  },
  {
   "cell_type": "code",
   "execution_count": 26,
   "metadata": {},
   "outputs": [
    {
     "data": {
      "text/plain": [
       "{'0', '1', '3'}"
      ]
     },
     "execution_count": 26,
     "metadata": {},
     "output_type": "execute_result"
    }
   ],
   "source": [
    "no_countinuous(\"133303\")"
   ]
  },
  {
   "cell_type": "code",
   "execution_count": 27,
   "metadata": {
    "collapsed": true
   },
   "outputs": [],
   "source": [
    "def no_countinuous_answer(s):\n",
    "    r = []\n",
    "    for i in range(len(s)):\n",
    "        if i == 0:\n",
    "            r.append(s[i])\n",
    "        elif s[i] != s[i-1]:\n",
    "            r.append(s[i])\n",
    "        return r\n",
    "    "
   ]
  },
  {
   "cell_type": "code",
   "execution_count": 28,
   "metadata": {
    "scrolled": true
   },
   "outputs": [
    {
     "data": {
      "text/plain": [
       "['1']"
      ]
     },
     "execution_count": 28,
     "metadata": {},
     "output_type": "execute_result"
    }
   ],
   "source": [
    "no_countinuous_answer(\"133303\")"
   ]
  },
  {
   "cell_type": "code",
   "execution_count": 29,
   "metadata": {
    "collapsed": true
   },
   "outputs": [],
   "source": [
    "def no_countinous_2(s):\n",
    "    result = []\n",
    "    compare = \"\"\n",
    "    for now in s:\n",
    "        print(\"비교 값: \" + compare)\n",
    "        print(\"지금 값: \" + now)\n",
    "        if compare != now:\n",
    "            compare = now\n",
    "            result.append(now)\n",
    "    return (result)\n",
    "# 이전값이 계속 유지가 되어야 함\n",
    "# 비교값과 비교되는 값을 확실히 !\n",
    "# 필요없는 경우는 뛰어넘을 수도 \n",
    "# compare에는 반복된 숫자의 경우, 첫번째 반복 숫자만 들어간다.\n"
   ]
  },
  {
   "cell_type": "code",
   "execution_count": 30,
   "metadata": {},
   "outputs": [
    {
     "name": "stdout",
     "output_type": "stream",
     "text": [
      "비교 값: \n",
      "지금 값: 4\n",
      "비교 값: 4\n",
      "지금 값: 7\n",
      "비교 값: 7\n",
      "지금 값: 3\n",
      "비교 값: 3\n",
      "지금 값: 3\n",
      "비교 값: 3\n",
      "지금 값: 0\n"
     ]
    },
    {
     "data": {
      "text/plain": [
       "['4', '7', '3', '0']"
      ]
     },
     "execution_count": 30,
     "metadata": {},
     "output_type": "execute_result"
    }
   ],
   "source": [
    "no_countinous_2(\"47330\")"
   ]
  },
  {
   "cell_type": "markdown",
   "metadata": {},
   "source": [
    "# (문제4) 서울에서 김서방 찾기\n",
    "findKim 함수(메소드)는 String형 배열 seoul을 매개변수로 받습니다.\n",
    "\n",
    "seoul의 element중 Kim의 위치 x를 찾아, 김서방은 x에 있다는 String을 반환하세요.\n",
    "seoul에 Kim은 오직 한 번만 나타나며 잘못된 값이 입력되는 경우는 없습니다.\n",
    "<br>\n",
    "[프로그래머스_서울에서김서방찾기](https://programmers.co.kr/learn/challenge_codes/105)\n",
    "\n",
    "<br>\n",
    "<br>\n",
    "참고: [hiuni와 함께 세상보기_python을 배워봅시다](http://blog.daum.net/bioinf/6543752)"
   ]
  },
  {
   "cell_type": "code",
   "execution_count": 31,
   "metadata": {
    "collapsed": true
   },
   "outputs": [],
   "source": [
    "from IPython.core.interactiveshell import InteractiveShell\n",
    "InteractiveShell.ast_node_interactivity = 'all'"
   ]
  },
  {
   "cell_type": "code",
   "execution_count": 32,
   "metadata": {},
   "outputs": [
    {
     "name": "stdout",
     "output_type": "stream",
     "text": [
      "2\n"
     ]
    }
   ],
   "source": [
    "seoul = [\"Queen\", \"Tod\", \"Kim\"]\n",
    "\n",
    "whereis = \"Kim\"\n",
    "\n",
    "print(seoul.index(whereis))"
   ]
  },
  {
   "cell_type": "markdown",
   "metadata": {},
   "source": [
    "#### format()"
   ]
  },
  {
   "cell_type": "code",
   "execution_count": 33,
   "metadata": {},
   "outputs": [
    {
     "name": "stdout",
     "output_type": "stream",
     "text": [
      "김서방은 3에 있다.\n"
     ]
    }
   ],
   "source": [
    "print(\"김서방은 {}에 있다.\".format(3))"
   ]
  },
  {
   "cell_type": "code",
   "execution_count": 34,
   "metadata": {
    "collapsed": true
   },
   "outputs": [],
   "source": [
    "def findKim(seoul):\n",
    "    kimIdx = 0\n",
    "    name = \"Kim\"\n",
    "    print(seoul.index(name))\n",
    "    kimIdx = seoul.index(name)\n",
    "    return \"김서방은 {}에 있다.\".format(kimIdx)"
   ]
  },
  {
   "cell_type": "code",
   "execution_count": 35,
   "metadata": {},
   "outputs": [
    {
     "name": "stdout",
     "output_type": "stream",
     "text": [
      "2\n",
      "김서방은 2에 있다.\n"
     ]
    }
   ],
   "source": [
    "print(findKim([\"Queen\", \"Tod\", \"Kim\"]))"
   ]
  },
  {
   "cell_type": "markdown",
   "metadata": {},
   "source": [
    "# (문제5) 홀수와 짝수\n",
    "evenOrOdd 메소드는 int형 num을 매개변수로 받습니다.\n",
    "num이 짝수일 경우 Even을 반환하고 홀수인 경우 Odd를 반환하도록 evenOrOdd에 코드를 작성해 보세요.\n",
    "num은 0이상의 정수이며, num이 음수인 경우는 없습니다.\n",
    "<br>\n",
    "[프로그래머스_짝수와 홀수](https://programmers.co.kr/learn/challenge_codes/124)"
   ]
  },
  {
   "cell_type": "code",
   "execution_count": 36,
   "metadata": {
    "collapsed": true
   },
   "outputs": [],
   "source": [
    "def evenOrOdd(num):\n",
    "    s = \"\"\n",
    "    if num % 2 == 0: \n",
    "        s = \"Even\"\n",
    "    else:\n",
    "        s = \"Odd\"\n",
    "    return s"
   ]
  },
  {
   "cell_type": "code",
   "execution_count": 37,
   "metadata": {},
   "outputs": [
    {
     "name": "stdout",
     "output_type": "stream",
     "text": [
      "결과 : Odd\n"
     ]
    }
   ],
   "source": [
    "print(\"결과 : \" + evenOrOdd(3))"
   ]
  },
  {
   "cell_type": "code",
   "execution_count": 38,
   "metadata": {},
   "outputs": [
    {
     "name": "stdout",
     "output_type": "stream",
     "text": [
      "결과 : Even\n"
     ]
    }
   ],
   "source": [
    "print(\"결과 : \" + evenOrOdd(2))"
   ]
  },
  {
   "cell_type": "markdown",
   "metadata": {},
   "source": [
    "# 개념 연습하기"
   ]
  },
  {
   "cell_type": "markdown",
   "metadata": {},
   "source": [
    "## zip()\n",
    "zip(iterable*)은 동일한 개수로 이루어진 자료형을 묶어 주는 역할을 하는 함수이다."
   ]
  },
  {
   "cell_type": "code",
   "execution_count": 39,
   "metadata": {},
   "outputs": [
    {
     "data": {
      "text/plain": [
       "[(1, 4), (2, 5), (3, 6)]"
      ]
     },
     "execution_count": 39,
     "metadata": {},
     "output_type": "execute_result"
    }
   ],
   "source": [
    "list(zip([1, 2, 3], [4, 5, 6]))"
   ]
  },
  {
   "cell_type": "code",
   "execution_count": 40,
   "metadata": {},
   "outputs": [
    {
     "data": {
      "text/plain": [
       "[(1, 4, 7), (2, 5, 8), (3, 6, 9)]"
      ]
     },
     "execution_count": 40,
     "metadata": {},
     "output_type": "execute_result"
    }
   ],
   "source": [
    "list(zip([1, 2, 3], [4, 5, 6], [7, 8, 9]))"
   ]
  },
  {
   "cell_type": "code",
   "execution_count": 41,
   "metadata": {},
   "outputs": [
    {
     "data": {
      "text/plain": [
       "[('a', 'd'), ('b', 'e'), ('c', 'f')]"
      ]
     },
     "execution_count": 41,
     "metadata": {},
     "output_type": "execute_result"
    }
   ],
   "source": [
    "list(zip(\"abc\", \"def\"))"
   ]
  },
  {
   "cell_type": "markdown",
   "metadata": {
    "collapsed": true
   },
   "source": [
    "# (문제6) 문자열 다루기 기본\n",
    "alpha_string46함수는 문자열 s를 매개변수로 입력받습니다.\n",
    "s의 길이가 4혹은 6이고, 숫자로만 구성되있는지 확인해주는 함수를 완성하세요.\n",
    "예를들어 s가 a234이면 False를 리턴하고 1234라면 True를 리턴하면 됩니다 <br>\n",
    "[문자열 다루기 기본](https://programmers.co.kr/learn/challenge_codes/100)"
   ]
  },
  {
   "cell_type": "markdown",
   "metadata": {},
   "source": [
    "### <p style=\"color:red\"> check! 하는 방법 </p>\n",
    "1. 해당 문자가 있는지 체크\n",
    "2. str인가 int인가를 체크\n",
    "3. 길이가 4, 6 인가를 체크"
   ]
  },
  {
   "cell_type": "markdown",
   "metadata": {},
   "source": [
    "### 1. 해당 문자가 있는지 체크하는 방법 "
   ]
  },
  {
   "cell_type": "code",
   "execution_count": 43,
   "metadata": {},
   "outputs": [
    {
     "name": "stdout",
     "output_type": "stream",
     "text": [
      "no\n"
     ]
    }
   ],
   "source": [
    "if 'c' in 'python':\n",
    "    print('yes')\n",
    "else:\n",
    "    print('no')"
   ]
  },
  {
   "cell_type": "markdown",
   "metadata": {},
   "source": [
    "### 2. str인가 int인가를 체크하는 방법\n",
    "> 1. isinstance(#, #)\n",
    "<p style=\"color:gray\">isinstance 경우에는 int도 s로 받아버림</p>\n",
    "> 2. #.isdigit()\n",
    "<p style=\"color:gray\">\"0\".isdigit()으로 \"\"안에 있는 것이 숫자인지 문자인지 확인할 수 있다. </p>"
   ]
  },
  {
   "cell_type": "code",
   "execution_count": 50,
   "metadata": {},
   "outputs": [
    {
     "data": {
      "text/plain": [
       "False"
      ]
     },
     "execution_count": 50,
     "metadata": {},
     "output_type": "execute_result"
    },
    {
     "data": {
      "text/plain": [
       "True"
      ]
     },
     "execution_count": 50,
     "metadata": {},
     "output_type": "execute_result"
    },
    {
     "data": {
      "text/plain": [
       "True"
      ]
     },
     "execution_count": 50,
     "metadata": {},
     "output_type": "execute_result"
    }
   ],
   "source": [
    "isinstance(1, str)\n",
    "isinstance(2, int)\n",
    "isinstance(1234, int)"
   ]
  },
  {
   "cell_type": "code",
   "execution_count": 54,
   "metadata": {
    "scrolled": true
   },
   "outputs": [
    {
     "data": {
      "text/plain": [
       "True"
      ]
     },
     "execution_count": 54,
     "metadata": {},
     "output_type": "execute_result"
    }
   ],
   "source": [
    "\"1234\".isdigit()"
   ]
  },
  {
   "cell_type": "code",
   "execution_count": 91,
   "metadata": {},
   "outputs": [
    {
     "data": {
      "text/plain": [
       "int"
      ]
     },
     "execution_count": 91,
     "metadata": {},
     "output_type": "execute_result"
    }
   ],
   "source": [
    "type(1234)"
   ]
  },
  {
   "cell_type": "markdown",
   "metadata": {},
   "source": [
    "### 3. 길이가 4인지 6인지 확인하는 방법\n",
    "길이가 4이거나 6일 때에는, true"
   ]
  },
  {
   "cell_type": "code",
   "execution_count": 113,
   "metadata": {},
   "outputs": [
    {
     "name": "stdout",
     "output_type": "stream",
     "text": [
      "False\n"
     ]
    }
   ],
   "source": [
    "checkinglen = \"1233444\"\n",
    "if len(checkinglen) == 4 or len(checkinglen) == 6:\n",
    "    print(True)\n",
    "else:\n",
    "    print(False)"
   ]
  },
  {
   "cell_type": "code",
   "execution_count": 73,
   "metadata": {},
   "outputs": [
    {
     "name": "stdout",
     "output_type": "stream",
     "text": [
      "4\n"
     ]
    }
   ],
   "source": [
    "print(len(\"1234\"))"
   ]
  },
  {
   "cell_type": "code",
   "execution_count": 74,
   "metadata": {},
   "outputs": [
    {
     "name": "stdout",
     "output_type": "stream",
     "text": [
      "True\n"
     ]
    }
   ],
   "source": [
    "if len(checkinglen) == 4:\n",
    "    print(True)\n",
    "else:\n",
    "    print(False)"
   ]
  },
  {
   "cell_type": "code",
   "execution_count": 130,
   "metadata": {},
   "outputs": [],
   "source": [
    "def alpha_string46(s):\n",
    "    if len(s) == 4 or len(s) == 6:\n",
    "        print(True)\n",
    "        result = s.isdigit()\n",
    "    else:\n",
    "        result = False\n",
    "    return result"
   ]
  },
  {
   "cell_type": "code",
   "execution_count": 131,
   "metadata": {},
   "outputs": [
    {
     "name": "stdout",
     "output_type": "stream",
     "text": [
      "False\n"
     ]
    }
   ],
   "source": [
    "print(alpha_string46(\"52345\"))"
   ]
  },
  {
   "cell_type": "code",
   "execution_count": 132,
   "metadata": {},
   "outputs": [
    {
     "name": "stdout",
     "output_type": "stream",
     "text": [
      "True\n",
      "True\n"
     ]
    }
   ],
   "source": [
    "print(alpha_string46(\"1234\"))"
   ]
  },
  {
   "cell_type": "markdown",
   "metadata": {},
   "source": [
    "### 다른 방법들로 연습해보기\n",
    "1. conditional statement 사용하기\n",
    "2. regex"
   ]
  },
  {
   "cell_type": "markdown",
   "metadata": {},
   "source": [
    "### conditional statement 사용하기"
   ]
  },
  {
   "cell_type": "code",
   "execution_count": 134,
   "metadata": {},
   "outputs": [
    {
     "name": "stdout",
     "output_type": "stream",
     "text": [
      "False\n",
      "True\n",
      "False\n"
     ]
    }
   ],
   "source": [
    "def alpha_string46_2(s):\n",
    "    return s.isdigit() and (len(s) == 4 or len(s) == 6)\n",
    "print(alpha_string46_2(\"52345\"))\n",
    "print(alpha_string46_2(\"1234\"))\n",
    "print(alpha_string46_2(\"a1234\"))"
   ]
  },
  {
   "cell_type": "code",
   "execution_count": null,
   "metadata": {
    "collapsed": true
   },
   "outputs": [],
   "source": [
    "def alpha_"
   ]
  },
  {
   "cell_type": "markdown",
   "metadata": {},
   "source": [
    "### regex 사용하기"
   ]
  },
  {
   "cell_type": "code",
   "execution_count": 135,
   "metadata": {},
   "outputs": [
    {
     "name": "stdout",
     "output_type": "stream",
     "text": [
      "False\n",
      "True\n",
      "False\n"
     ]
    }
   ],
   "source": [
    "def alpha_string46_3(s):\n",
    "    import re\n",
    "    return bool(re.match(\"^(\\d{4}|\\d{6})$\", s))\n",
    "print(alpha_string46_2(\"52345\"))\n",
    "print(alpha_string46_2(\"1234\"))\n",
    "print(alpha_string46_2(\"a1234\"))"
   ]
  },
  {
   "cell_type": "code",
   "execution_count": null,
   "metadata": {
    "collapsed": true
   },
   "outputs": [],
   "source": []
  }
 ],
 "metadata": {
  "kernelspec": {
   "display_name": "Python 3",
   "language": "python",
   "name": "python3"
  },
  "language_info": {
   "codemirror_mode": {
    "name": "ipython",
    "version": 3
   },
   "file_extension": ".py",
   "mimetype": "text/x-python",
   "name": "python",
   "nbconvert_exporter": "python",
   "pygments_lexer": "ipython3",
   "version": "3.6.1"
  }
 },
 "nbformat": 4,
 "nbformat_minor": 2
}
